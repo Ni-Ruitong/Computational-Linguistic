{
  "cells": [
    {
      "cell_type": "markdown",
      "metadata": {
        "id": "pCn2xR6TO-RC"
      },
      "source": [
        "Automatic Essay Scoring System RN"
      ]
    },
    {
      "cell_type": "code",
      "execution_count": null,
      "metadata": {
        "id": "fpd6RN4XuBGU",
        "colab": {
          "base_uri": "https://localhost:8080/"
        },
        "outputId": "68efc9b3-784d-4ee4-af69-e7241d2801c5"
      },
      "outputs": [
        {
          "output_type": "stream",
          "name": "stderr",
          "text": [
            "[nltk_data] Downloading package stopwords to /root/nltk_data...\n",
            "[nltk_data]   Unzipping corpora/stopwords.zip.\n"
          ]
        },
        {
          "output_type": "execute_result",
          "data": {
            "text/plain": [
              "True"
            ]
          },
          "metadata": {},
          "execution_count": 1
        }
      ],
      "source": [
        "import nltk\n",
        "nltk.download('stopwords')"
      ]
    },
    {
      "cell_type": "code",
      "execution_count": null,
      "metadata": {
        "colab": {
          "base_uri": "https://localhost:8080/"
        },
        "id": "j3Rn3wjFuLfw",
        "outputId": "3249a227-d3e0-4fbd-a025-de56b0b4505d"
      },
      "outputs": [
        {
          "output_type": "stream",
          "name": "stdout",
          "text": [
            "nltk version: 3.7\n",
            "Python 3.8.16\n"
          ]
        }
      ],
      "source": [
        "import nltk\n",
        "nltk.download('stopwords')"
      ]
    },
    {
      "cell_type": "markdown",
      "metadata": {
        "id": "C5Yr-fGHuRa2"
      },
      "source": [
        "Load Corpus "
      ]
    },
    {
      "cell_type": "code",
      "execution_count": null,
      "metadata": {
        "id": "UfK2SAlWuXWI"
      },
      "outputs": [],
      "source": [
        "import nltk\n",
        "import pandas as pd\n",
        "import matplotlib.pyplot as plt\n",
        "import re\n",
        "from sklearn.feature_extraction.text import TfidfVectorizer\n",
        "import string\n",
        "\n",
        "stopwords = nltk.corpus.stopwords.words('english')\n",
        "ps = nltk.PorterStemmer()\n",
        "\n",
        "data = pd.read_csv(\"ETS_corpus_F22.csv\")"
      ]
    },
    {
      "cell_type": "markdown",
      "metadata": {
        "id": "Rf-MxuGFg0dN"
      },
      "source": [
        "Designed Features "
      ]
    },
    {
      "cell_type": "markdown",
      "metadata": {
        "id": "bUru9itsRUZA"
      },
      "source": [
        "*1. Features - Organizations - Paragraphs Count*"
      ]
    },
    {
      "cell_type": "code",
      "execution_count": null,
      "metadata": {
        "id": "KlOsgMdXRfmJ"
      },
      "outputs": [],
      "source": [
        "def paragraphs_count (text):\n",
        "  paragraphs = text.split('\\n\\n') \n",
        "  paragraphs_count = len(paragraphs)\n",
        "  if paragraphs_count == 1:\n",
        "    paragraphs_count = len(text.split ('\\n'))\n",
        "  return paragraphs_count"
      ]
    },
    {
      "cell_type": "code",
      "execution_count": null,
      "metadata": {
        "colab": {
          "base_uri": "https://localhost:8080/"
        },
        "id": "GrcJ8F35RfZw",
        "outputId": "250b555a-7981-4e59-db62-c806cd3487cc"
      },
      "outputs": [
        {
          "output_type": "stream",
          "name": "stdout",
          "text": [
            "Some people might think that traveling in a group led by a tour guide is a good way. But, a group tour normally has its strict schedule and does not offer the tourists in group any chance to meet many people in new place. \n",
            "So, I strongly disagree with the statement that the best way to travel is in a group led by a tour guide. \n",
            "\n",
            "First, a group tour has its own strict schedule and all the tour team members should follow it. And it means that I can not choose the place where I want go and the food which I want to eat. For example, when I went to Thailand for the first time, I chose a group tour because I was young and it was the first time to go abroad. I really wanted to go many attractive shops and spots in the street in Bangkok, but I couldn't go there because I was in a group tour and I had to follow the schedule which the tour company offered. And I had to wake up early in the morning and had to go back to hotel in early evening, even though I wanted to enjoy more sleep in the bed in the morning and wanted to go outside in the night. It was really bad experience. \n",
            "\n",
            "Second, a group tour does not offer many opportunities to meet other people for its tour team members. Becuase a group tour moves together by its tour bus, it is difficult to meet many people in new places. But if I travel alone, I can meet many people and feel their cultures. When I went to Tokyo by myself, I met really many people there. I could talk with them and some of them became my friends! Even though I could not go a lot of sightseeing spots as efficiently as a group tour, choosing a place where I go and going there by a subway were really exciting experience and Japanese people were kind to let me know the ways. \n",
            "\n",
            "All things considered, I definitely belive that a group tour led by a tour guide is not interesting or exciting at all. By going new place alone, we can learn more about the new place and feel much about the people there. \n",
            "\n"
          ]
        },
        {
          "output_type": "execute_result",
          "data": {
            "text/plain": [
              "4"
            ]
          },
          "metadata": {},
          "execution_count": 5
        }
      ],
      "source": [
        "t = data.iloc[0]['text']\n",
        "print(t)\n",
        "paragraphs_count(t)"
      ]
    },
    {
      "cell_type": "code",
      "execution_count": null,
      "metadata": {
        "colab": {
          "base_uri": "https://localhost:8080/",
          "height": 204
        },
        "id": "NwFt1J0LdET9",
        "outputId": "f58fece2-45c5-4d58-a062-a1783c0d2913"
      },
      "outputs": [
        {
          "output_type": "execute_result",
          "data": {
            "text/plain": [
              "    label                                               text  paragraphs_count\n",
              "0    high  Some people might think that traveling in a gr...                 4\n",
              "1  medium  IThe importance and popularity of travelling i...                 2\n",
              "2    high  It is an important decision, how to plan your ...                 4\n",
              "3  medium  Some people believe that young people can enjo...                 6\n",
              "4  medium  Travelling is  usually considered as good recr...                 6"
            ],
            "text/html": [
              "\n",
              "  <div id=\"df-f3261cdc-917a-41c8-b835-029941c4871e\">\n",
              "    <div class=\"colab-df-container\">\n",
              "      <div>\n",
              "<style scoped>\n",
              "    .dataframe tbody tr th:only-of-type {\n",
              "        vertical-align: middle;\n",
              "    }\n",
              "\n",
              "    .dataframe tbody tr th {\n",
              "        vertical-align: top;\n",
              "    }\n",
              "\n",
              "    .dataframe thead th {\n",
              "        text-align: right;\n",
              "    }\n",
              "</style>\n",
              "<table border=\"1\" class=\"dataframe\">\n",
              "  <thead>\n",
              "    <tr style=\"text-align: right;\">\n",
              "      <th></th>\n",
              "      <th>label</th>\n",
              "      <th>text</th>\n",
              "      <th>paragraphs_count</th>\n",
              "    </tr>\n",
              "  </thead>\n",
              "  <tbody>\n",
              "    <tr>\n",
              "      <th>0</th>\n",
              "      <td>high</td>\n",
              "      <td>Some people might think that traveling in a gr...</td>\n",
              "      <td>4</td>\n",
              "    </tr>\n",
              "    <tr>\n",
              "      <th>1</th>\n",
              "      <td>medium</td>\n",
              "      <td>IThe importance and popularity of travelling i...</td>\n",
              "      <td>2</td>\n",
              "    </tr>\n",
              "    <tr>\n",
              "      <th>2</th>\n",
              "      <td>high</td>\n",
              "      <td>It is an important decision, how to plan your ...</td>\n",
              "      <td>4</td>\n",
              "    </tr>\n",
              "    <tr>\n",
              "      <th>3</th>\n",
              "      <td>medium</td>\n",
              "      <td>Some people believe that young people can enjo...</td>\n",
              "      <td>6</td>\n",
              "    </tr>\n",
              "    <tr>\n",
              "      <th>4</th>\n",
              "      <td>medium</td>\n",
              "      <td>Travelling is  usually considered as good recr...</td>\n",
              "      <td>6</td>\n",
              "    </tr>\n",
              "  </tbody>\n",
              "</table>\n",
              "</div>\n",
              "      <button class=\"colab-df-convert\" onclick=\"convertToInteractive('df-f3261cdc-917a-41c8-b835-029941c4871e')\"\n",
              "              title=\"Convert this dataframe to an interactive table.\"\n",
              "              style=\"display:none;\">\n",
              "        \n",
              "  <svg xmlns=\"http://www.w3.org/2000/svg\" height=\"24px\"viewBox=\"0 0 24 24\"\n",
              "       width=\"24px\">\n",
              "    <path d=\"M0 0h24v24H0V0z\" fill=\"none\"/>\n",
              "    <path d=\"M18.56 5.44l.94 2.06.94-2.06 2.06-.94-2.06-.94-.94-2.06-.94 2.06-2.06.94zm-11 1L8.5 8.5l.94-2.06 2.06-.94-2.06-.94L8.5 2.5l-.94 2.06-2.06.94zm10 10l.94 2.06.94-2.06 2.06-.94-2.06-.94-.94-2.06-.94 2.06-2.06.94z\"/><path d=\"M17.41 7.96l-1.37-1.37c-.4-.4-.92-.59-1.43-.59-.52 0-1.04.2-1.43.59L10.3 9.45l-7.72 7.72c-.78.78-.78 2.05 0 2.83L4 21.41c.39.39.9.59 1.41.59.51 0 1.02-.2 1.41-.59l7.78-7.78 2.81-2.81c.8-.78.8-2.07 0-2.86zM5.41 20L4 18.59l7.72-7.72 1.47 1.35L5.41 20z\"/>\n",
              "  </svg>\n",
              "      </button>\n",
              "      \n",
              "  <style>\n",
              "    .colab-df-container {\n",
              "      display:flex;\n",
              "      flex-wrap:wrap;\n",
              "      gap: 12px;\n",
              "    }\n",
              "\n",
              "    .colab-df-convert {\n",
              "      background-color: #E8F0FE;\n",
              "      border: none;\n",
              "      border-radius: 50%;\n",
              "      cursor: pointer;\n",
              "      display: none;\n",
              "      fill: #1967D2;\n",
              "      height: 32px;\n",
              "      padding: 0 0 0 0;\n",
              "      width: 32px;\n",
              "    }\n",
              "\n",
              "    .colab-df-convert:hover {\n",
              "      background-color: #E2EBFA;\n",
              "      box-shadow: 0px 1px 2px rgba(60, 64, 67, 0.3), 0px 1px 3px 1px rgba(60, 64, 67, 0.15);\n",
              "      fill: #174EA6;\n",
              "    }\n",
              "\n",
              "    [theme=dark] .colab-df-convert {\n",
              "      background-color: #3B4455;\n",
              "      fill: #D2E3FC;\n",
              "    }\n",
              "\n",
              "    [theme=dark] .colab-df-convert:hover {\n",
              "      background-color: #434B5C;\n",
              "      box-shadow: 0px 1px 3px 1px rgba(0, 0, 0, 0.15);\n",
              "      filter: drop-shadow(0px 1px 2px rgba(0, 0, 0, 0.3));\n",
              "      fill: #FFFFFF;\n",
              "    }\n",
              "  </style>\n",
              "\n",
              "      <script>\n",
              "        const buttonEl =\n",
              "          document.querySelector('#df-f3261cdc-917a-41c8-b835-029941c4871e button.colab-df-convert');\n",
              "        buttonEl.style.display =\n",
              "          google.colab.kernel.accessAllowed ? 'block' : 'none';\n",
              "\n",
              "        async function convertToInteractive(key) {\n",
              "          const element = document.querySelector('#df-f3261cdc-917a-41c8-b835-029941c4871e');\n",
              "          const dataTable =\n",
              "            await google.colab.kernel.invokeFunction('convertToInteractive',\n",
              "                                                     [key], {});\n",
              "          if (!dataTable) return;\n",
              "\n",
              "          const docLinkHtml = 'Like what you see? Visit the ' +\n",
              "            '<a target=\"_blank\" href=https://colab.research.google.com/notebooks/data_table.ipynb>data table notebook</a>'\n",
              "            + ' to learn more about interactive tables.';\n",
              "          element.innerHTML = '';\n",
              "          dataTable['output_type'] = 'display_data';\n",
              "          await google.colab.output.renderOutput(dataTable, element);\n",
              "          const docLink = document.createElement('div');\n",
              "          docLink.innerHTML = docLinkHtml;\n",
              "          element.appendChild(docLink);\n",
              "        }\n",
              "      </script>\n",
              "    </div>\n",
              "  </div>\n",
              "  "
            ]
          },
          "metadata": {},
          "execution_count": 6
        }
      ],
      "source": [
        "data['paragraphs_count'] = data['text'].apply(paragraphs_count)\n",
        "data.head()"
      ]
    },
    {
      "cell_type": "markdown",
      "metadata": {
        "id": "2U6uD1YUvIXC"
      },
      "source": [
        "*2. Features - Lexical Complexity - Average Word Length*"
      ]
    },
    {
      "cell_type": "code",
      "execution_count": null,
      "metadata": {
        "id": "Nh9NFg7wvKjm"
      },
      "outputs": [],
      "source": [
        "def average_word_length(text):\n",
        "  text_length = len(text)\n",
        "  tokens = len(text.split())\n",
        "  AWL = text_length/tokens\n",
        "  return AWL"
      ]
    },
    {
      "cell_type": "code",
      "execution_count": null,
      "metadata": {
        "colab": {
          "base_uri": "https://localhost:8080/"
        },
        "id": "BCyL0ATXvct1",
        "outputId": "c5baf10f-108e-487d-8bc8-96653edd1cd8"
      },
      "outputs": [
        {
          "output_type": "stream",
          "name": "stdout",
          "text": [
            "It is an important decision, how to plan your syllabus. Some students prefer to take a lot of courses and expand their knowledge, whereas some other prefer to specialize in one specific subject. In this essay I will dwell on the advantages of specializing in one subject and argue in its favor.\n",
            "There are at least three reasons why choosing one subject is better than trying to keep balance between many subjects. The first and most important reason for me is that this way people concentrate on one thing and do not feel anxiety about time-management and deadlines. In contrast, student who take three or four subjects are very busy and stressed, because they have to prepare for many exams and see different lecturers, which is confusing and the results are not as good as those of the ones from the one subject plan. In addition, when one specializes in one subject then this person has more chances to be well-informed about it and do his best, being sure he recieves the best knowledge and invests in something substantial and prosperious.The second reason is that this kind of studying gives the opportunity to work and gain your own money. Usually students depend on their parents and have to explain why they need money, which is not very pleasant. For instance, I used to work when i did not have many lessons and I was happy that I was able to succeed in working and doing something important as an adult does, relying on my own experience. The third reason is that the students can pay more attention to their relatives, friends and even their hobbies. Moreover, life is not only studying and if we cannot enjoy it, we should rethink our point of view. For example, students, who do not have fun and only study, get sick and miss the both chances. The psychologies have proved that working hard is not the best for our health and we should take rest from time to time. \n",
            "In my opinion, it is better to specialize in one subject, because this choice makes us have more healthy life, which has is successful too. \n",
            "\n"
          ]
        },
        {
          "output_type": "execute_result",
          "data": {
            "text/plain": [
              "5.616666666666666"
            ]
          },
          "metadata": {},
          "execution_count": 8
        }
      ],
      "source": [
        "t = data.iloc[2]['text']\n",
        "print(t)\n",
        "average_word_length(t)\n"
      ]
    },
    {
      "cell_type": "code",
      "execution_count": null,
      "metadata": {
        "colab": {
          "base_uri": "https://localhost:8080/",
          "height": 204
        },
        "id": "G8wq_uiavyTa",
        "outputId": "a8514163-1a3e-4257-ac29-345b340793ab"
      },
      "outputs": [
        {
          "output_type": "execute_result",
          "data": {
            "text/plain": [
              "    label                                               text  \\\n",
              "0    high  Some people might think that traveling in a gr...   \n",
              "1  medium  IThe importance and popularity of travelling i...   \n",
              "2    high  It is an important decision, how to plan your ...   \n",
              "3  medium  Some people believe that young people can enjo...   \n",
              "4  medium  Travelling is  usually considered as good recr...   \n",
              "\n",
              "   paragraphs_count  average_word_length  \n",
              "0                 4             5.052083  \n",
              "1                 2             5.124611  \n",
              "2                 4             5.616667  \n",
              "3                 6             5.449568  \n",
              "4                 6             5.335244  "
            ],
            "text/html": [
              "\n",
              "  <div id=\"df-64ff3505-120c-4502-a724-07a767c366ee\">\n",
              "    <div class=\"colab-df-container\">\n",
              "      <div>\n",
              "<style scoped>\n",
              "    .dataframe tbody tr th:only-of-type {\n",
              "        vertical-align: middle;\n",
              "    }\n",
              "\n",
              "    .dataframe tbody tr th {\n",
              "        vertical-align: top;\n",
              "    }\n",
              "\n",
              "    .dataframe thead th {\n",
              "        text-align: right;\n",
              "    }\n",
              "</style>\n",
              "<table border=\"1\" class=\"dataframe\">\n",
              "  <thead>\n",
              "    <tr style=\"text-align: right;\">\n",
              "      <th></th>\n",
              "      <th>label</th>\n",
              "      <th>text</th>\n",
              "      <th>paragraphs_count</th>\n",
              "      <th>average_word_length</th>\n",
              "    </tr>\n",
              "  </thead>\n",
              "  <tbody>\n",
              "    <tr>\n",
              "      <th>0</th>\n",
              "      <td>high</td>\n",
              "      <td>Some people might think that traveling in a gr...</td>\n",
              "      <td>4</td>\n",
              "      <td>5.052083</td>\n",
              "    </tr>\n",
              "    <tr>\n",
              "      <th>1</th>\n",
              "      <td>medium</td>\n",
              "      <td>IThe importance and popularity of travelling i...</td>\n",
              "      <td>2</td>\n",
              "      <td>5.124611</td>\n",
              "    </tr>\n",
              "    <tr>\n",
              "      <th>2</th>\n",
              "      <td>high</td>\n",
              "      <td>It is an important decision, how to plan your ...</td>\n",
              "      <td>4</td>\n",
              "      <td>5.616667</td>\n",
              "    </tr>\n",
              "    <tr>\n",
              "      <th>3</th>\n",
              "      <td>medium</td>\n",
              "      <td>Some people believe that young people can enjo...</td>\n",
              "      <td>6</td>\n",
              "      <td>5.449568</td>\n",
              "    </tr>\n",
              "    <tr>\n",
              "      <th>4</th>\n",
              "      <td>medium</td>\n",
              "      <td>Travelling is  usually considered as good recr...</td>\n",
              "      <td>6</td>\n",
              "      <td>5.335244</td>\n",
              "    </tr>\n",
              "  </tbody>\n",
              "</table>\n",
              "</div>\n",
              "      <button class=\"colab-df-convert\" onclick=\"convertToInteractive('df-64ff3505-120c-4502-a724-07a767c366ee')\"\n",
              "              title=\"Convert this dataframe to an interactive table.\"\n",
              "              style=\"display:none;\">\n",
              "        \n",
              "  <svg xmlns=\"http://www.w3.org/2000/svg\" height=\"24px\"viewBox=\"0 0 24 24\"\n",
              "       width=\"24px\">\n",
              "    <path d=\"M0 0h24v24H0V0z\" fill=\"none\"/>\n",
              "    <path d=\"M18.56 5.44l.94 2.06.94-2.06 2.06-.94-2.06-.94-.94-2.06-.94 2.06-2.06.94zm-11 1L8.5 8.5l.94-2.06 2.06-.94-2.06-.94L8.5 2.5l-.94 2.06-2.06.94zm10 10l.94 2.06.94-2.06 2.06-.94-2.06-.94-.94-2.06-.94 2.06-2.06.94z\"/><path d=\"M17.41 7.96l-1.37-1.37c-.4-.4-.92-.59-1.43-.59-.52 0-1.04.2-1.43.59L10.3 9.45l-7.72 7.72c-.78.78-.78 2.05 0 2.83L4 21.41c.39.39.9.59 1.41.59.51 0 1.02-.2 1.41-.59l7.78-7.78 2.81-2.81c.8-.78.8-2.07 0-2.86zM5.41 20L4 18.59l7.72-7.72 1.47 1.35L5.41 20z\"/>\n",
              "  </svg>\n",
              "      </button>\n",
              "      \n",
              "  <style>\n",
              "    .colab-df-container {\n",
              "      display:flex;\n",
              "      flex-wrap:wrap;\n",
              "      gap: 12px;\n",
              "    }\n",
              "\n",
              "    .colab-df-convert {\n",
              "      background-color: #E8F0FE;\n",
              "      border: none;\n",
              "      border-radius: 50%;\n",
              "      cursor: pointer;\n",
              "      display: none;\n",
              "      fill: #1967D2;\n",
              "      height: 32px;\n",
              "      padding: 0 0 0 0;\n",
              "      width: 32px;\n",
              "    }\n",
              "\n",
              "    .colab-df-convert:hover {\n",
              "      background-color: #E2EBFA;\n",
              "      box-shadow: 0px 1px 2px rgba(60, 64, 67, 0.3), 0px 1px 3px 1px rgba(60, 64, 67, 0.15);\n",
              "      fill: #174EA6;\n",
              "    }\n",
              "\n",
              "    [theme=dark] .colab-df-convert {\n",
              "      background-color: #3B4455;\n",
              "      fill: #D2E3FC;\n",
              "    }\n",
              "\n",
              "    [theme=dark] .colab-df-convert:hover {\n",
              "      background-color: #434B5C;\n",
              "      box-shadow: 0px 1px 3px 1px rgba(0, 0, 0, 0.15);\n",
              "      filter: drop-shadow(0px 1px 2px rgba(0, 0, 0, 0.3));\n",
              "      fill: #FFFFFF;\n",
              "    }\n",
              "  </style>\n",
              "\n",
              "      <script>\n",
              "        const buttonEl =\n",
              "          document.querySelector('#df-64ff3505-120c-4502-a724-07a767c366ee button.colab-df-convert');\n",
              "        buttonEl.style.display =\n",
              "          google.colab.kernel.accessAllowed ? 'block' : 'none';\n",
              "\n",
              "        async function convertToInteractive(key) {\n",
              "          const element = document.querySelector('#df-64ff3505-120c-4502-a724-07a767c366ee');\n",
              "          const dataTable =\n",
              "            await google.colab.kernel.invokeFunction('convertToInteractive',\n",
              "                                                     [key], {});\n",
              "          if (!dataTable) return;\n",
              "\n",
              "          const docLinkHtml = 'Like what you see? Visit the ' +\n",
              "            '<a target=\"_blank\" href=https://colab.research.google.com/notebooks/data_table.ipynb>data table notebook</a>'\n",
              "            + ' to learn more about interactive tables.';\n",
              "          element.innerHTML = '';\n",
              "          dataTable['output_type'] = 'display_data';\n",
              "          await google.colab.output.renderOutput(dataTable, element);\n",
              "          const docLink = document.createElement('div');\n",
              "          docLink.innerHTML = docLinkHtml;\n",
              "          element.appendChild(docLink);\n",
              "        }\n",
              "      </script>\n",
              "    </div>\n",
              "  </div>\n",
              "  "
            ]
          },
          "metadata": {},
          "execution_count": 9
        }
      ],
      "source": [
        "data['average_word_length'] = data['text'].apply(average_word_length)\n",
        "data.head()"
      ]
    },
    {
      "cell_type": "markdown",
      "metadata": {
        "id": "Dvoa-VX-cSSv"
      },
      "source": [
        "*3. Feature - Grammar - Perfect Aspect Pattern*"
      ]
    },
    {
      "cell_type": "code",
      "execution_count": null,
      "metadata": {
        "colab": {
          "base_uri": "https://localhost:8080/"
        },
        "id": "flSbp9Zr88Fx",
        "outputId": "1dbf1b23-f5ed-4fd8-9218-38d571e5ac2e"
      },
      "outputs": [
        {
          "output_type": "stream",
          "name": "stderr",
          "text": [
            "/usr/local/lib/python3.8/dist-packages/torch/cuda/__init__.py:497: UserWarning: Can't initialize NVML\n",
            "  warnings.warn(\"Can't initialize NVML\")\n"
          ]
        }
      ],
      "source": [
        "import spacy"
      ]
    },
    {
      "cell_type": "code",
      "execution_count": null,
      "metadata": {
        "id": "0vcKrVud9V4R"
      },
      "outputs": [],
      "source": [
        "from spacy.matcher import Matcher\n",
        "import math"
      ]
    },
    {
      "cell_type": "code",
      "execution_count": null,
      "metadata": {
        "id": "khJjwep5cG6J"
      },
      "outputs": [],
      "source": [
        "nlp = spacy.load('en_core_web_sm', disable = ['textcat'])\n",
        "def Have_PP (x):\n",
        "  doc = nlp(x)\n",
        "  matcher = Matcher(nlp.vocab)\n",
        "  pattern1 = [{'LEMMA':'have'},{'LEMMA': 'not', 'OP': '?'}, {'POS': 'ADV', 'OP': '?'}, {'TAG': 'VBN'}]\n",
        "\n",
        "  matcher.add(\"AUX\", [pattern1])\n",
        "  matches = matcher(doc, as_spans=True)\n",
        "  log_result = math.log((len(matches)+1)/len(x))\n",
        "  return log_result\n",
        "\n",
        "data['Have_PP'] = data['text'].apply(Have_PP)"
      ]
    },
    {
      "cell_type": "code",
      "execution_count": null,
      "metadata": {
        "id": "Ne_WnsYP_5Wz"
      },
      "outputs": [],
      "source": [
        "# import math\n",
        "# def log_x_plus_one(x):\n",
        "#   return math.log(x+1/len(text))"
      ]
    },
    {
      "cell_type": "code",
      "execution_count": null,
      "metadata": {
        "id": "Q_wzFgND86L0"
      },
      "outputs": [],
      "source": [
        "# data['Have_PP_Positive'] = data['text'].apply(Have_PP)"
      ]
    },
    {
      "cell_type": "code",
      "execution_count": null,
      "metadata": {
        "colab": {
          "base_uri": "https://localhost:8080/"
        },
        "id": "7qf77EWCmACs",
        "outputId": "09c499a2-3007-479b-ae3e-9b393ed1a5be"
      },
      "outputs": [
        {
          "output_type": "stream",
          "name": "stdout",
          "text": [
            "There can be different opinions of this statement.\n",
            "There are young people nowadays do to give enough time to helping their communities because they have a freetime who they can utilize to helping the comminities,maybe they do it because they want help the nex generations to live in beautiful and wonderfull communities.In many case the parents can their children to enter in a word that it is that to help the persons less well.\n",
            "There are young people nowaday do not give enough time to helping their communities because they have not freetime or because they don\"t want to help nobodyes.They want to live nothing never problem and so they don\"t help the next generations.\n",
            "\n"
          ]
        },
        {
          "output_type": "execute_result",
          "data": {
            "text/plain": [
              "-6.513230110912307"
            ]
          },
          "metadata": {},
          "execution_count": 15
        }
      ],
      "source": [
        "t = data.iloc[349]['text']\n",
        "print(t)\n",
        "Have_PP(t)\n"
      ]
    },
    {
      "cell_type": "code",
      "execution_count": null,
      "metadata": {
        "colab": {
          "base_uri": "https://localhost:8080/",
          "height": 248
        },
        "id": "KVX0ggEFA5fI",
        "outputId": "f4e04205-2c6d-48da-da24-d747f5c503bc"
      },
      "outputs": [
        {
          "output_type": "execute_result",
          "data": {
            "text/plain": [
              "    label                                               text  \\\n",
              "0    high  Some people might think that traveling in a gr...   \n",
              "1  medium  IThe importance and popularity of travelling i...   \n",
              "2    high  It is an important decision, how to plan your ...   \n",
              "3  medium  Some people believe that young people can enjo...   \n",
              "4  medium  Travelling is  usually considered as good recr...   \n",
              "\n",
              "   paragraphs_count  average_word_length   Have_PP  \n",
              "0                 4             5.052083 -7.570443  \n",
              "1                 2             5.124611 -7.405496  \n",
              "2                 4             5.616667 -6.918695  \n",
              "3                 6             5.449568 -6.851714  \n",
              "4                 6             5.335244 -6.430794  "
            ],
            "text/html": [
              "\n",
              "  <div id=\"df-e509f05e-1d01-4345-bf1d-ab7d2c983f38\">\n",
              "    <div class=\"colab-df-container\">\n",
              "      <div>\n",
              "<style scoped>\n",
              "    .dataframe tbody tr th:only-of-type {\n",
              "        vertical-align: middle;\n",
              "    }\n",
              "\n",
              "    .dataframe tbody tr th {\n",
              "        vertical-align: top;\n",
              "    }\n",
              "\n",
              "    .dataframe thead th {\n",
              "        text-align: right;\n",
              "    }\n",
              "</style>\n",
              "<table border=\"1\" class=\"dataframe\">\n",
              "  <thead>\n",
              "    <tr style=\"text-align: right;\">\n",
              "      <th></th>\n",
              "      <th>label</th>\n",
              "      <th>text</th>\n",
              "      <th>paragraphs_count</th>\n",
              "      <th>average_word_length</th>\n",
              "      <th>Have_PP</th>\n",
              "    </tr>\n",
              "  </thead>\n",
              "  <tbody>\n",
              "    <tr>\n",
              "      <th>0</th>\n",
              "      <td>high</td>\n",
              "      <td>Some people might think that traveling in a gr...</td>\n",
              "      <td>4</td>\n",
              "      <td>5.052083</td>\n",
              "      <td>-7.570443</td>\n",
              "    </tr>\n",
              "    <tr>\n",
              "      <th>1</th>\n",
              "      <td>medium</td>\n",
              "      <td>IThe importance and popularity of travelling i...</td>\n",
              "      <td>2</td>\n",
              "      <td>5.124611</td>\n",
              "      <td>-7.405496</td>\n",
              "    </tr>\n",
              "    <tr>\n",
              "      <th>2</th>\n",
              "      <td>high</td>\n",
              "      <td>It is an important decision, how to plan your ...</td>\n",
              "      <td>4</td>\n",
              "      <td>5.616667</td>\n",
              "      <td>-6.918695</td>\n",
              "    </tr>\n",
              "    <tr>\n",
              "      <th>3</th>\n",
              "      <td>medium</td>\n",
              "      <td>Some people believe that young people can enjo...</td>\n",
              "      <td>6</td>\n",
              "      <td>5.449568</td>\n",
              "      <td>-6.851714</td>\n",
              "    </tr>\n",
              "    <tr>\n",
              "      <th>4</th>\n",
              "      <td>medium</td>\n",
              "      <td>Travelling is  usually considered as good recr...</td>\n",
              "      <td>6</td>\n",
              "      <td>5.335244</td>\n",
              "      <td>-6.430794</td>\n",
              "    </tr>\n",
              "  </tbody>\n",
              "</table>\n",
              "</div>\n",
              "      <button class=\"colab-df-convert\" onclick=\"convertToInteractive('df-e509f05e-1d01-4345-bf1d-ab7d2c983f38')\"\n",
              "              title=\"Convert this dataframe to an interactive table.\"\n",
              "              style=\"display:none;\">\n",
              "        \n",
              "  <svg xmlns=\"http://www.w3.org/2000/svg\" height=\"24px\"viewBox=\"0 0 24 24\"\n",
              "       width=\"24px\">\n",
              "    <path d=\"M0 0h24v24H0V0z\" fill=\"none\"/>\n",
              "    <path d=\"M18.56 5.44l.94 2.06.94-2.06 2.06-.94-2.06-.94-.94-2.06-.94 2.06-2.06.94zm-11 1L8.5 8.5l.94-2.06 2.06-.94-2.06-.94L8.5 2.5l-.94 2.06-2.06.94zm10 10l.94 2.06.94-2.06 2.06-.94-2.06-.94-.94-2.06-.94 2.06-2.06.94z\"/><path d=\"M17.41 7.96l-1.37-1.37c-.4-.4-.92-.59-1.43-.59-.52 0-1.04.2-1.43.59L10.3 9.45l-7.72 7.72c-.78.78-.78 2.05 0 2.83L4 21.41c.39.39.9.59 1.41.59.51 0 1.02-.2 1.41-.59l7.78-7.78 2.81-2.81c.8-.78.8-2.07 0-2.86zM5.41 20L4 18.59l7.72-7.72 1.47 1.35L5.41 20z\"/>\n",
              "  </svg>\n",
              "      </button>\n",
              "      \n",
              "  <style>\n",
              "    .colab-df-container {\n",
              "      display:flex;\n",
              "      flex-wrap:wrap;\n",
              "      gap: 12px;\n",
              "    }\n",
              "\n",
              "    .colab-df-convert {\n",
              "      background-color: #E8F0FE;\n",
              "      border: none;\n",
              "      border-radius: 50%;\n",
              "      cursor: pointer;\n",
              "      display: none;\n",
              "      fill: #1967D2;\n",
              "      height: 32px;\n",
              "      padding: 0 0 0 0;\n",
              "      width: 32px;\n",
              "    }\n",
              "\n",
              "    .colab-df-convert:hover {\n",
              "      background-color: #E2EBFA;\n",
              "      box-shadow: 0px 1px 2px rgba(60, 64, 67, 0.3), 0px 1px 3px 1px rgba(60, 64, 67, 0.15);\n",
              "      fill: #174EA6;\n",
              "    }\n",
              "\n",
              "    [theme=dark] .colab-df-convert {\n",
              "      background-color: #3B4455;\n",
              "      fill: #D2E3FC;\n",
              "    }\n",
              "\n",
              "    [theme=dark] .colab-df-convert:hover {\n",
              "      background-color: #434B5C;\n",
              "      box-shadow: 0px 1px 3px 1px rgba(0, 0, 0, 0.15);\n",
              "      filter: drop-shadow(0px 1px 2px rgba(0, 0, 0, 0.3));\n",
              "      fill: #FFFFFF;\n",
              "    }\n",
              "  </style>\n",
              "\n",
              "      <script>\n",
              "        const buttonEl =\n",
              "          document.querySelector('#df-e509f05e-1d01-4345-bf1d-ab7d2c983f38 button.colab-df-convert');\n",
              "        buttonEl.style.display =\n",
              "          google.colab.kernel.accessAllowed ? 'block' : 'none';\n",
              "\n",
              "        async function convertToInteractive(key) {\n",
              "          const element = document.querySelector('#df-e509f05e-1d01-4345-bf1d-ab7d2c983f38');\n",
              "          const dataTable =\n",
              "            await google.colab.kernel.invokeFunction('convertToInteractive',\n",
              "                                                     [key], {});\n",
              "          if (!dataTable) return;\n",
              "\n",
              "          const docLinkHtml = 'Like what you see? Visit the ' +\n",
              "            '<a target=\"_blank\" href=https://colab.research.google.com/notebooks/data_table.ipynb>data table notebook</a>'\n",
              "            + ' to learn more about interactive tables.';\n",
              "          element.innerHTML = '';\n",
              "          dataTable['output_type'] = 'display_data';\n",
              "          await google.colab.output.renderOutput(dataTable, element);\n",
              "          const docLink = document.createElement('div');\n",
              "          docLink.innerHTML = docLinkHtml;\n",
              "          element.appendChild(docLink);\n",
              "        }\n",
              "      </script>\n",
              "    </div>\n",
              "  </div>\n",
              "  "
            ]
          },
          "metadata": {},
          "execution_count": 16
        }
      ],
      "source": [
        "data.head()"
      ]
    },
    {
      "cell_type": "code",
      "execution_count": null,
      "metadata": {
        "id": "rGvGxXEJ5fjz"
      },
      "outputs": [],
      "source": []
    },
    {
      "cell_type": "markdown",
      "metadata": {
        "id": "NP7mXn9F0kE1"
      },
      "source": [
        "*4. Features - Grammar - Perfect Aspect Error *"
      ]
    },
    {
      "cell_type": "code",
      "execution_count": null,
      "metadata": {
        "colab": {
          "base_uri": "https://localhost:8080/",
          "height": 333
        },
        "id": "0TS4SDbn8HVO",
        "outputId": "23c4a385-c280-4d05-ff6f-9c9d5a7d53d6"
      },
      "outputs": [
        {
          "output_type": "execute_result",
          "data": {
            "text/plain": [
              "    label                                               text  \\\n",
              "0    high  Some people might think that traveling in a gr...   \n",
              "1  medium  IThe importance and popularity of travelling i...   \n",
              "2    high  It is an important decision, how to plan your ...   \n",
              "3  medium  Some people believe that young people can enjo...   \n",
              "4  medium  Travelling is  usually considered as good recr...   \n",
              "\n",
              "   paragraphs_count  average_word_length   Have_PP  Have_PP_Error  \n",
              "0                 4             5.052083 -7.570443      -7.570443  \n",
              "1                 2             5.124611 -7.405496      -7.405496  \n",
              "2                 4             5.616667 -6.918695      -7.611842  \n",
              "3                 6             5.449568 -6.851714      -7.544861  \n",
              "4                 6             5.335244 -6.430794      -7.529406  "
            ],
            "text/html": [
              "\n",
              "  <div id=\"df-20441875-de64-4250-930a-cd7bf63d4f08\">\n",
              "    <div class=\"colab-df-container\">\n",
              "      <div>\n",
              "<style scoped>\n",
              "    .dataframe tbody tr th:only-of-type {\n",
              "        vertical-align: middle;\n",
              "    }\n",
              "\n",
              "    .dataframe tbody tr th {\n",
              "        vertical-align: top;\n",
              "    }\n",
              "\n",
              "    .dataframe thead th {\n",
              "        text-align: right;\n",
              "    }\n",
              "</style>\n",
              "<table border=\"1\" class=\"dataframe\">\n",
              "  <thead>\n",
              "    <tr style=\"text-align: right;\">\n",
              "      <th></th>\n",
              "      <th>label</th>\n",
              "      <th>text</th>\n",
              "      <th>paragraphs_count</th>\n",
              "      <th>average_word_length</th>\n",
              "      <th>Have_PP</th>\n",
              "      <th>Have_PP_Error</th>\n",
              "    </tr>\n",
              "  </thead>\n",
              "  <tbody>\n",
              "    <tr>\n",
              "      <th>0</th>\n",
              "      <td>high</td>\n",
              "      <td>Some people might think that traveling in a gr...</td>\n",
              "      <td>4</td>\n",
              "      <td>5.052083</td>\n",
              "      <td>-7.570443</td>\n",
              "      <td>-7.570443</td>\n",
              "    </tr>\n",
              "    <tr>\n",
              "      <th>1</th>\n",
              "      <td>medium</td>\n",
              "      <td>IThe importance and popularity of travelling i...</td>\n",
              "      <td>2</td>\n",
              "      <td>5.124611</td>\n",
              "      <td>-7.405496</td>\n",
              "      <td>-7.405496</td>\n",
              "    </tr>\n",
              "    <tr>\n",
              "      <th>2</th>\n",
              "      <td>high</td>\n",
              "      <td>It is an important decision, how to plan your ...</td>\n",
              "      <td>4</td>\n",
              "      <td>5.616667</td>\n",
              "      <td>-6.918695</td>\n",
              "      <td>-7.611842</td>\n",
              "    </tr>\n",
              "    <tr>\n",
              "      <th>3</th>\n",
              "      <td>medium</td>\n",
              "      <td>Some people believe that young people can enjo...</td>\n",
              "      <td>6</td>\n",
              "      <td>5.449568</td>\n",
              "      <td>-6.851714</td>\n",
              "      <td>-7.544861</td>\n",
              "    </tr>\n",
              "    <tr>\n",
              "      <th>4</th>\n",
              "      <td>medium</td>\n",
              "      <td>Travelling is  usually considered as good recr...</td>\n",
              "      <td>6</td>\n",
              "      <td>5.335244</td>\n",
              "      <td>-6.430794</td>\n",
              "      <td>-7.529406</td>\n",
              "    </tr>\n",
              "  </tbody>\n",
              "</table>\n",
              "</div>\n",
              "      <button class=\"colab-df-convert\" onclick=\"convertToInteractive('df-20441875-de64-4250-930a-cd7bf63d4f08')\"\n",
              "              title=\"Convert this dataframe to an interactive table.\"\n",
              "              style=\"display:none;\">\n",
              "        \n",
              "  <svg xmlns=\"http://www.w3.org/2000/svg\" height=\"24px\"viewBox=\"0 0 24 24\"\n",
              "       width=\"24px\">\n",
              "    <path d=\"M0 0h24v24H0V0z\" fill=\"none\"/>\n",
              "    <path d=\"M18.56 5.44l.94 2.06.94-2.06 2.06-.94-2.06-.94-.94-2.06-.94 2.06-2.06.94zm-11 1L8.5 8.5l.94-2.06 2.06-.94-2.06-.94L8.5 2.5l-.94 2.06-2.06.94zm10 10l.94 2.06.94-2.06 2.06-.94-2.06-.94-.94-2.06-.94 2.06-2.06.94z\"/><path d=\"M17.41 7.96l-1.37-1.37c-.4-.4-.92-.59-1.43-.59-.52 0-1.04.2-1.43.59L10.3 9.45l-7.72 7.72c-.78.78-.78 2.05 0 2.83L4 21.41c.39.39.9.59 1.41.59.51 0 1.02-.2 1.41-.59l7.78-7.78 2.81-2.81c.8-.78.8-2.07 0-2.86zM5.41 20L4 18.59l7.72-7.72 1.47 1.35L5.41 20z\"/>\n",
              "  </svg>\n",
              "      </button>\n",
              "      \n",
              "  <style>\n",
              "    .colab-df-container {\n",
              "      display:flex;\n",
              "      flex-wrap:wrap;\n",
              "      gap: 12px;\n",
              "    }\n",
              "\n",
              "    .colab-df-convert {\n",
              "      background-color: #E8F0FE;\n",
              "      border: none;\n",
              "      border-radius: 50%;\n",
              "      cursor: pointer;\n",
              "      display: none;\n",
              "      fill: #1967D2;\n",
              "      height: 32px;\n",
              "      padding: 0 0 0 0;\n",
              "      width: 32px;\n",
              "    }\n",
              "\n",
              "    .colab-df-convert:hover {\n",
              "      background-color: #E2EBFA;\n",
              "      box-shadow: 0px 1px 2px rgba(60, 64, 67, 0.3), 0px 1px 3px 1px rgba(60, 64, 67, 0.15);\n",
              "      fill: #174EA6;\n",
              "    }\n",
              "\n",
              "    [theme=dark] .colab-df-convert {\n",
              "      background-color: #3B4455;\n",
              "      fill: #D2E3FC;\n",
              "    }\n",
              "\n",
              "    [theme=dark] .colab-df-convert:hover {\n",
              "      background-color: #434B5C;\n",
              "      box-shadow: 0px 1px 3px 1px rgba(0, 0, 0, 0.15);\n",
              "      filter: drop-shadow(0px 1px 2px rgba(0, 0, 0, 0.3));\n",
              "      fill: #FFFFFF;\n",
              "    }\n",
              "  </style>\n",
              "\n",
              "      <script>\n",
              "        const buttonEl =\n",
              "          document.querySelector('#df-20441875-de64-4250-930a-cd7bf63d4f08 button.colab-df-convert');\n",
              "        buttonEl.style.display =\n",
              "          google.colab.kernel.accessAllowed ? 'block' : 'none';\n",
              "\n",
              "        async function convertToInteractive(key) {\n",
              "          const element = document.querySelector('#df-20441875-de64-4250-930a-cd7bf63d4f08');\n",
              "          const dataTable =\n",
              "            await google.colab.kernel.invokeFunction('convertToInteractive',\n",
              "                                                     [key], {});\n",
              "          if (!dataTable) return;\n",
              "\n",
              "          const docLinkHtml = 'Like what you see? Visit the ' +\n",
              "            '<a target=\"_blank\" href=https://colab.research.google.com/notebooks/data_table.ipynb>data table notebook</a>'\n",
              "            + ' to learn more about interactive tables.';\n",
              "          element.innerHTML = '';\n",
              "          dataTable['output_type'] = 'display_data';\n",
              "          await google.colab.output.renderOutput(dataTable, element);\n",
              "          const docLink = document.createElement('div');\n",
              "          docLink.innerHTML = docLinkHtml;\n",
              "          element.appendChild(docLink);\n",
              "        }\n",
              "      </script>\n",
              "    </div>\n",
              "  </div>\n",
              "  "
            ]
          },
          "metadata": {},
          "execution_count": 17
        }
      ],
      "source": [
        "nlp = spacy.load('en_core_web_sm', disable = ['textcat'])\n",
        "def Have_PP_Error (x):\n",
        "  doc = nlp(x)\n",
        "  matcher = Matcher(nlp.vocab)\n",
        "  pattern1 = [{'LEMMA':'have'},{'LEMMA': 'not', 'OP': '?'}, {'POS': 'ADV', 'OP': '?'}, {'TAG': 'VB'}]\n",
        "\n",
        "  matcher.add(\"AUX\", [pattern1])\n",
        "  matches = matcher(doc, as_spans=True)\n",
        "  log_result = math.log((len(matches)+1)/len(x))\n",
        "\n",
        "  return log_result\n",
        "\n",
        "data['Have_PP_Error'] = data['text'].apply(Have_PP_Error)\n",
        "data.head()"
      ]
    },
    {
      "cell_type": "code",
      "execution_count": null,
      "metadata": {
        "id": "GA-ETvdd75S2"
      },
      "outputs": [],
      "source": [
        "# data['Have_PP_Error_Log'] = data['Have_PP_Error'].apply(log_x_plus_one)\n",
        "# data.head()\n",
        "\n"
      ]
    },
    {
      "cell_type": "code",
      "execution_count": null,
      "metadata": {
        "id": "f54QefMIKuST"
      },
      "outputs": [],
      "source": []
    },
    {
      "cell_type": "markdown",
      "metadata": {
        "id": "LzRmho_Lw9-Y"
      },
      "source": [
        "*5. Features - Usage - Proportion of Punctuation*"
      ]
    },
    {
      "cell_type": "code",
      "execution_count": null,
      "metadata": {
        "id": "6sJZoVjGxB5P"
      },
      "outputs": [],
      "source": [
        "def count_punct(text):\n",
        "    count = sum([1 for char in text if char in string.punctuation])\n",
        "    return round(count/(len(text) - text.count(\" \")), 3)*100"
      ]
    },
    {
      "cell_type": "code",
      "execution_count": null,
      "metadata": {
        "colab": {
          "base_uri": "https://localhost:8080/"
        },
        "id": "wG6xT_BzyAXR",
        "outputId": "f7b9683b-649a-4270-cb32-147585c56adb"
      },
      "outputs": [
        {
          "output_type": "stream",
          "name": "stdout",
          "text": [
            "!\"#$%&'()*+,-./:;<=>?@[\\]^_`{|}~\n"
          ]
        }
      ],
      "source": [
        "\n",
        "print(string.punctuation)"
      ]
    },
    {
      "cell_type": "code",
      "execution_count": null,
      "metadata": {
        "colab": {
          "base_uri": "https://localhost:8080/"
        },
        "id": "yN0wlOOOyElo",
        "outputId": "9f4b1bdf-6d3f-4f59-c5db-033cc857f42c"
      },
      "outputs": [
        {
          "output_type": "stream",
          "name": "stdout",
          "text": [
            "I thing the statement ''Young people nowadays do not give enough time to helping thier communities\" is wrong and right. You have to look at all aspect this statement give us. \n",
            "On one hand existing enough people who do not interessting for communities. These people are in their own world and could only see their own problems. Sure, you have to manage your own life first till you can help other peole but there are also people who have a good life and no problems and are not interesstest in social life.\n",
            "On the other side there are many young people, who are visiting old peole or doing other nice things.\n",
            "The problem nowadays is the politics. If the politics would not be as bad as it is in the moment, younger people would have their head free for other things like the communities. For example, the problem to get a job is a very difficult thing. Many factory -  owners want to have good workers who should not be silly. So the not intelligent persons are not getting a job. If you have no job you can not buy food or can not rent a appartment. When a young person has a problem like this, that he or she maybe has to sleep at the street, he/she can not look after the communities. \n",
            "\n",
            "Sometimes also the problem exist that people want to help, but they can not because the social-houses are in a bad vioce. If that happens there is no use for the biggest help. \n",
            "So all in all you can see that for every statement you have to look at many aspects to get a result. \n",
            "But in the end I think the statement is right because young people have their own things they have to do and could not care about so much aspects in their town. And in the end you can see that every person is a little bit egoism. That is very dissapointing but the truth.\n",
            "\n"
          ]
        },
        {
          "output_type": "execute_result",
          "data": {
            "text/plain": [
              "2.3"
            ]
          },
          "metadata": {},
          "execution_count": 21
        }
      ],
      "source": [
        "t = data.iloc[7]['text']\n",
        "print(t)\n",
        "count_punct(t)"
      ]
    },
    {
      "cell_type": "code",
      "execution_count": null,
      "metadata": {
        "colab": {
          "base_uri": "https://localhost:8080/",
          "height": 333
        },
        "id": "as4iBrbxyJQO",
        "outputId": "a9f3c8fd-b043-4359-d371-aa515cd6b805"
      },
      "outputs": [
        {
          "output_type": "execute_result",
          "data": {
            "text/plain": [
              "    label                                               text  \\\n",
              "0    high  Some people might think that traveling in a gr...   \n",
              "1  medium  IThe importance and popularity of travelling i...   \n",
              "2    high  It is an important decision, how to plan your ...   \n",
              "3  medium  Some people believe that young people can enjo...   \n",
              "4  medium  Travelling is  usually considered as good recr...   \n",
              "\n",
              "   paragraphs_count  average_word_length   Have_PP  Have_PP_Error  punct%  \n",
              "0                 4             5.052083 -7.570443      -7.570443     2.1  \n",
              "1                 2             5.124611 -7.405496      -7.405496     1.4  \n",
              "2                 4             5.616667 -6.918695      -7.611842     2.2  \n",
              "3                 6             5.449568 -6.851714      -7.544861     2.7  \n",
              "4                 6             5.335244 -6.430794      -7.529406     1.2  "
            ],
            "text/html": [
              "\n",
              "  <div id=\"df-7b5ea8e0-f06a-4add-ad94-60d666cdca40\">\n",
              "    <div class=\"colab-df-container\">\n",
              "      <div>\n",
              "<style scoped>\n",
              "    .dataframe tbody tr th:only-of-type {\n",
              "        vertical-align: middle;\n",
              "    }\n",
              "\n",
              "    .dataframe tbody tr th {\n",
              "        vertical-align: top;\n",
              "    }\n",
              "\n",
              "    .dataframe thead th {\n",
              "        text-align: right;\n",
              "    }\n",
              "</style>\n",
              "<table border=\"1\" class=\"dataframe\">\n",
              "  <thead>\n",
              "    <tr style=\"text-align: right;\">\n",
              "      <th></th>\n",
              "      <th>label</th>\n",
              "      <th>text</th>\n",
              "      <th>paragraphs_count</th>\n",
              "      <th>average_word_length</th>\n",
              "      <th>Have_PP</th>\n",
              "      <th>Have_PP_Error</th>\n",
              "      <th>punct%</th>\n",
              "    </tr>\n",
              "  </thead>\n",
              "  <tbody>\n",
              "    <tr>\n",
              "      <th>0</th>\n",
              "      <td>high</td>\n",
              "      <td>Some people might think that traveling in a gr...</td>\n",
              "      <td>4</td>\n",
              "      <td>5.052083</td>\n",
              "      <td>-7.570443</td>\n",
              "      <td>-7.570443</td>\n",
              "      <td>2.1</td>\n",
              "    </tr>\n",
              "    <tr>\n",
              "      <th>1</th>\n",
              "      <td>medium</td>\n",
              "      <td>IThe importance and popularity of travelling i...</td>\n",
              "      <td>2</td>\n",
              "      <td>5.124611</td>\n",
              "      <td>-7.405496</td>\n",
              "      <td>-7.405496</td>\n",
              "      <td>1.4</td>\n",
              "    </tr>\n",
              "    <tr>\n",
              "      <th>2</th>\n",
              "      <td>high</td>\n",
              "      <td>It is an important decision, how to plan your ...</td>\n",
              "      <td>4</td>\n",
              "      <td>5.616667</td>\n",
              "      <td>-6.918695</td>\n",
              "      <td>-7.611842</td>\n",
              "      <td>2.2</td>\n",
              "    </tr>\n",
              "    <tr>\n",
              "      <th>3</th>\n",
              "      <td>medium</td>\n",
              "      <td>Some people believe that young people can enjo...</td>\n",
              "      <td>6</td>\n",
              "      <td>5.449568</td>\n",
              "      <td>-6.851714</td>\n",
              "      <td>-7.544861</td>\n",
              "      <td>2.7</td>\n",
              "    </tr>\n",
              "    <tr>\n",
              "      <th>4</th>\n",
              "      <td>medium</td>\n",
              "      <td>Travelling is  usually considered as good recr...</td>\n",
              "      <td>6</td>\n",
              "      <td>5.335244</td>\n",
              "      <td>-6.430794</td>\n",
              "      <td>-7.529406</td>\n",
              "      <td>1.2</td>\n",
              "    </tr>\n",
              "  </tbody>\n",
              "</table>\n",
              "</div>\n",
              "      <button class=\"colab-df-convert\" onclick=\"convertToInteractive('df-7b5ea8e0-f06a-4add-ad94-60d666cdca40')\"\n",
              "              title=\"Convert this dataframe to an interactive table.\"\n",
              "              style=\"display:none;\">\n",
              "        \n",
              "  <svg xmlns=\"http://www.w3.org/2000/svg\" height=\"24px\"viewBox=\"0 0 24 24\"\n",
              "       width=\"24px\">\n",
              "    <path d=\"M0 0h24v24H0V0z\" fill=\"none\"/>\n",
              "    <path d=\"M18.56 5.44l.94 2.06.94-2.06 2.06-.94-2.06-.94-.94-2.06-.94 2.06-2.06.94zm-11 1L8.5 8.5l.94-2.06 2.06-.94-2.06-.94L8.5 2.5l-.94 2.06-2.06.94zm10 10l.94 2.06.94-2.06 2.06-.94-2.06-.94-.94-2.06-.94 2.06-2.06.94z\"/><path d=\"M17.41 7.96l-1.37-1.37c-.4-.4-.92-.59-1.43-.59-.52 0-1.04.2-1.43.59L10.3 9.45l-7.72 7.72c-.78.78-.78 2.05 0 2.83L4 21.41c.39.39.9.59 1.41.59.51 0 1.02-.2 1.41-.59l7.78-7.78 2.81-2.81c.8-.78.8-2.07 0-2.86zM5.41 20L4 18.59l7.72-7.72 1.47 1.35L5.41 20z\"/>\n",
              "  </svg>\n",
              "      </button>\n",
              "      \n",
              "  <style>\n",
              "    .colab-df-container {\n",
              "      display:flex;\n",
              "      flex-wrap:wrap;\n",
              "      gap: 12px;\n",
              "    }\n",
              "\n",
              "    .colab-df-convert {\n",
              "      background-color: #E8F0FE;\n",
              "      border: none;\n",
              "      border-radius: 50%;\n",
              "      cursor: pointer;\n",
              "      display: none;\n",
              "      fill: #1967D2;\n",
              "      height: 32px;\n",
              "      padding: 0 0 0 0;\n",
              "      width: 32px;\n",
              "    }\n",
              "\n",
              "    .colab-df-convert:hover {\n",
              "      background-color: #E2EBFA;\n",
              "      box-shadow: 0px 1px 2px rgba(60, 64, 67, 0.3), 0px 1px 3px 1px rgba(60, 64, 67, 0.15);\n",
              "      fill: #174EA6;\n",
              "    }\n",
              "\n",
              "    [theme=dark] .colab-df-convert {\n",
              "      background-color: #3B4455;\n",
              "      fill: #D2E3FC;\n",
              "    }\n",
              "\n",
              "    [theme=dark] .colab-df-convert:hover {\n",
              "      background-color: #434B5C;\n",
              "      box-shadow: 0px 1px 3px 1px rgba(0, 0, 0, 0.15);\n",
              "      filter: drop-shadow(0px 1px 2px rgba(0, 0, 0, 0.3));\n",
              "      fill: #FFFFFF;\n",
              "    }\n",
              "  </style>\n",
              "\n",
              "      <script>\n",
              "        const buttonEl =\n",
              "          document.querySelector('#df-7b5ea8e0-f06a-4add-ad94-60d666cdca40 button.colab-df-convert');\n",
              "        buttonEl.style.display =\n",
              "          google.colab.kernel.accessAllowed ? 'block' : 'none';\n",
              "\n",
              "        async function convertToInteractive(key) {\n",
              "          const element = document.querySelector('#df-7b5ea8e0-f06a-4add-ad94-60d666cdca40');\n",
              "          const dataTable =\n",
              "            await google.colab.kernel.invokeFunction('convertToInteractive',\n",
              "                                                     [key], {});\n",
              "          if (!dataTable) return;\n",
              "\n",
              "          const docLinkHtml = 'Like what you see? Visit the ' +\n",
              "            '<a target=\"_blank\" href=https://colab.research.google.com/notebooks/data_table.ipynb>data table notebook</a>'\n",
              "            + ' to learn more about interactive tables.';\n",
              "          element.innerHTML = '';\n",
              "          dataTable['output_type'] = 'display_data';\n",
              "          await google.colab.output.renderOutput(dataTable, element);\n",
              "          const docLink = document.createElement('div');\n",
              "          docLink.innerHTML = docLinkHtml;\n",
              "          element.appendChild(docLink);\n",
              "        }\n",
              "      </script>\n",
              "    </div>\n",
              "  </div>\n",
              "  "
            ]
          },
          "metadata": {},
          "execution_count": 22
        }
      ],
      "source": [
        "data['punct%'] = data['text'].apply(count_punct)\n",
        "data.head()"
      ]
    },
    {
      "cell_type": "markdown",
      "metadata": {
        "id": "OCQMuIrwyRfj"
      },
      "source": [
        "*4. Features - Style - TTR*"
      ]
    },
    {
      "cell_type": "code",
      "execution_count": null,
      "metadata": {
        "id": "JsCMxuUryllT"
      },
      "outputs": [],
      "source": [
        "import math\n",
        "\n",
        "def TTR(text): \n",
        "  tokens = len(text.split()) #count number of tokens in text \n",
        "  types = len(set(text.split())) #count number of unique tokens \n",
        "  ttr = types/tokens #calculate type token ratio\n",
        "  return math.log(ttr) \n"
      ]
    },
    {
      "cell_type": "code",
      "execution_count": null,
      "metadata": {
        "colab": {
          "base_uri": "https://localhost:8080/"
        },
        "id": "asmaTlB_0DN2",
        "outputId": "4c5dc6f9-4a4c-4942-f5e6-0383c6d7cc2c"
      },
      "outputs": [
        {
          "output_type": "stream",
          "name": "stdout",
          "text": [
            "It is an important decision, how to plan your syllabus. Some students prefer to take a lot of courses and expand their knowledge, whereas some other prefer to specialize in one specific subject. In this essay I will dwell on the advantages of specializing in one subject and argue in its favor.\n",
            "There are at least three reasons why choosing one subject is better than trying to keep balance between many subjects. The first and most important reason for me is that this way people concentrate on one thing and do not feel anxiety about time-management and deadlines. In contrast, student who take three or four subjects are very busy and stressed, because they have to prepare for many exams and see different lecturers, which is confusing and the results are not as good as those of the ones from the one subject plan. In addition, when one specializes in one subject then this person has more chances to be well-informed about it and do his best, being sure he recieves the best knowledge and invests in something substantial and prosperious.The second reason is that this kind of studying gives the opportunity to work and gain your own money. Usually students depend on their parents and have to explain why they need money, which is not very pleasant. For instance, I used to work when i did not have many lessons and I was happy that I was able to succeed in working and doing something important as an adult does, relying on my own experience. The third reason is that the students can pay more attention to their relatives, friends and even their hobbies. Moreover, life is not only studying and if we cannot enjoy it, we should rethink our point of view. For example, students, who do not have fun and only study, get sick and miss the both chances. The psychologies have proved that working hard is not the best for our health and we should take rest from time to time. \n",
            "In my opinion, it is better to specialize in one subject, because this choice makes us have more healthy life, which has is successful too. \n",
            "\n"
          ]
        },
        {
          "output_type": "execute_result",
          "data": {
            "text/plain": [
              "-0.5582278626605747"
            ]
          },
          "metadata": {},
          "execution_count": 24
        }
      ],
      "source": [
        "t = data.iloc[2]['text']\n",
        "print(t)\n",
        "TTR(t)"
      ]
    },
    {
      "cell_type": "code",
      "execution_count": null,
      "metadata": {
        "colab": {
          "base_uri": "https://localhost:8080/",
          "height": 503
        },
        "id": "kL1yyxoy11hB",
        "outputId": "c7955f01-37f1-4c58-dc67-9bd2b1b1726b"
      },
      "outputs": [
        {
          "output_type": "execute_result",
          "data": {
            "text/plain": [
              "    label                                               text  \\\n",
              "0    high  Some people might think that traveling in a gr...   \n",
              "1  medium  IThe importance and popularity of travelling i...   \n",
              "2    high  It is an important decision, how to plan your ...   \n",
              "3  medium  Some people believe that young people can enjo...   \n",
              "4  medium  Travelling is  usually considered as good recr...   \n",
              "\n",
              "   paragraphs_count  average_word_length   Have_PP  Have_PP_Error  punct%  \\\n",
              "0                 4             5.052083 -7.570443      -7.570443     2.1   \n",
              "1                 2             5.124611 -7.405496      -7.405496     1.4   \n",
              "2                 4             5.616667 -6.918695      -7.611842     2.2   \n",
              "3                 6             5.449568 -6.851714      -7.544861     2.7   \n",
              "4                 6             5.335244 -6.430794      -7.529406     1.2   \n",
              "\n",
              "        TTR  \n",
              "0 -0.808979  \n",
              "1 -0.851460  \n",
              "2 -0.558228  \n",
              "3 -0.678841  \n",
              "4 -0.824634  "
            ],
            "text/html": [
              "\n",
              "  <div id=\"df-7497343f-4f52-4a8d-b16e-bb8d3a9036d8\">\n",
              "    <div class=\"colab-df-container\">\n",
              "      <div>\n",
              "<style scoped>\n",
              "    .dataframe tbody tr th:only-of-type {\n",
              "        vertical-align: middle;\n",
              "    }\n",
              "\n",
              "    .dataframe tbody tr th {\n",
              "        vertical-align: top;\n",
              "    }\n",
              "\n",
              "    .dataframe thead th {\n",
              "        text-align: right;\n",
              "    }\n",
              "</style>\n",
              "<table border=\"1\" class=\"dataframe\">\n",
              "  <thead>\n",
              "    <tr style=\"text-align: right;\">\n",
              "      <th></th>\n",
              "      <th>label</th>\n",
              "      <th>text</th>\n",
              "      <th>paragraphs_count</th>\n",
              "      <th>average_word_length</th>\n",
              "      <th>Have_PP</th>\n",
              "      <th>Have_PP_Error</th>\n",
              "      <th>punct%</th>\n",
              "      <th>TTR</th>\n",
              "    </tr>\n",
              "  </thead>\n",
              "  <tbody>\n",
              "    <tr>\n",
              "      <th>0</th>\n",
              "      <td>high</td>\n",
              "      <td>Some people might think that traveling in a gr...</td>\n",
              "      <td>4</td>\n",
              "      <td>5.052083</td>\n",
              "      <td>-7.570443</td>\n",
              "      <td>-7.570443</td>\n",
              "      <td>2.1</td>\n",
              "      <td>-0.808979</td>\n",
              "    </tr>\n",
              "    <tr>\n",
              "      <th>1</th>\n",
              "      <td>medium</td>\n",
              "      <td>IThe importance and popularity of travelling i...</td>\n",
              "      <td>2</td>\n",
              "      <td>5.124611</td>\n",
              "      <td>-7.405496</td>\n",
              "      <td>-7.405496</td>\n",
              "      <td>1.4</td>\n",
              "      <td>-0.851460</td>\n",
              "    </tr>\n",
              "    <tr>\n",
              "      <th>2</th>\n",
              "      <td>high</td>\n",
              "      <td>It is an important decision, how to plan your ...</td>\n",
              "      <td>4</td>\n",
              "      <td>5.616667</td>\n",
              "      <td>-6.918695</td>\n",
              "      <td>-7.611842</td>\n",
              "      <td>2.2</td>\n",
              "      <td>-0.558228</td>\n",
              "    </tr>\n",
              "    <tr>\n",
              "      <th>3</th>\n",
              "      <td>medium</td>\n",
              "      <td>Some people believe that young people can enjo...</td>\n",
              "      <td>6</td>\n",
              "      <td>5.449568</td>\n",
              "      <td>-6.851714</td>\n",
              "      <td>-7.544861</td>\n",
              "      <td>2.7</td>\n",
              "      <td>-0.678841</td>\n",
              "    </tr>\n",
              "    <tr>\n",
              "      <th>4</th>\n",
              "      <td>medium</td>\n",
              "      <td>Travelling is  usually considered as good recr...</td>\n",
              "      <td>6</td>\n",
              "      <td>5.335244</td>\n",
              "      <td>-6.430794</td>\n",
              "      <td>-7.529406</td>\n",
              "      <td>1.2</td>\n",
              "      <td>-0.824634</td>\n",
              "    </tr>\n",
              "  </tbody>\n",
              "</table>\n",
              "</div>\n",
              "      <button class=\"colab-df-convert\" onclick=\"convertToInteractive('df-7497343f-4f52-4a8d-b16e-bb8d3a9036d8')\"\n",
              "              title=\"Convert this dataframe to an interactive table.\"\n",
              "              style=\"display:none;\">\n",
              "        \n",
              "  <svg xmlns=\"http://www.w3.org/2000/svg\" height=\"24px\"viewBox=\"0 0 24 24\"\n",
              "       width=\"24px\">\n",
              "    <path d=\"M0 0h24v24H0V0z\" fill=\"none\"/>\n",
              "    <path d=\"M18.56 5.44l.94 2.06.94-2.06 2.06-.94-2.06-.94-.94-2.06-.94 2.06-2.06.94zm-11 1L8.5 8.5l.94-2.06 2.06-.94-2.06-.94L8.5 2.5l-.94 2.06-2.06.94zm10 10l.94 2.06.94-2.06 2.06-.94-2.06-.94-.94-2.06-.94 2.06-2.06.94z\"/><path d=\"M17.41 7.96l-1.37-1.37c-.4-.4-.92-.59-1.43-.59-.52 0-1.04.2-1.43.59L10.3 9.45l-7.72 7.72c-.78.78-.78 2.05 0 2.83L4 21.41c.39.39.9.59 1.41.59.51 0 1.02-.2 1.41-.59l7.78-7.78 2.81-2.81c.8-.78.8-2.07 0-2.86zM5.41 20L4 18.59l7.72-7.72 1.47 1.35L5.41 20z\"/>\n",
              "  </svg>\n",
              "      </button>\n",
              "      \n",
              "  <style>\n",
              "    .colab-df-container {\n",
              "      display:flex;\n",
              "      flex-wrap:wrap;\n",
              "      gap: 12px;\n",
              "    }\n",
              "\n",
              "    .colab-df-convert {\n",
              "      background-color: #E8F0FE;\n",
              "      border: none;\n",
              "      border-radius: 50%;\n",
              "      cursor: pointer;\n",
              "      display: none;\n",
              "      fill: #1967D2;\n",
              "      height: 32px;\n",
              "      padding: 0 0 0 0;\n",
              "      width: 32px;\n",
              "    }\n",
              "\n",
              "    .colab-df-convert:hover {\n",
              "      background-color: #E2EBFA;\n",
              "      box-shadow: 0px 1px 2px rgba(60, 64, 67, 0.3), 0px 1px 3px 1px rgba(60, 64, 67, 0.15);\n",
              "      fill: #174EA6;\n",
              "    }\n",
              "\n",
              "    [theme=dark] .colab-df-convert {\n",
              "      background-color: #3B4455;\n",
              "      fill: #D2E3FC;\n",
              "    }\n",
              "\n",
              "    [theme=dark] .colab-df-convert:hover {\n",
              "      background-color: #434B5C;\n",
              "      box-shadow: 0px 1px 3px 1px rgba(0, 0, 0, 0.15);\n",
              "      filter: drop-shadow(0px 1px 2px rgba(0, 0, 0, 0.3));\n",
              "      fill: #FFFFFF;\n",
              "    }\n",
              "  </style>\n",
              "\n",
              "      <script>\n",
              "        const buttonEl =\n",
              "          document.querySelector('#df-7497343f-4f52-4a8d-b16e-bb8d3a9036d8 button.colab-df-convert');\n",
              "        buttonEl.style.display =\n",
              "          google.colab.kernel.accessAllowed ? 'block' : 'none';\n",
              "\n",
              "        async function convertToInteractive(key) {\n",
              "          const element = document.querySelector('#df-7497343f-4f52-4a8d-b16e-bb8d3a9036d8');\n",
              "          const dataTable =\n",
              "            await google.colab.kernel.invokeFunction('convertToInteractive',\n",
              "                                                     [key], {});\n",
              "          if (!dataTable) return;\n",
              "\n",
              "          const docLinkHtml = 'Like what you see? Visit the ' +\n",
              "            '<a target=\"_blank\" href=https://colab.research.google.com/notebooks/data_table.ipynb>data table notebook</a>'\n",
              "            + ' to learn more about interactive tables.';\n",
              "          element.innerHTML = '';\n",
              "          dataTable['output_type'] = 'display_data';\n",
              "          await google.colab.output.renderOutput(dataTable, element);\n",
              "          const docLink = document.createElement('div');\n",
              "          docLink.innerHTML = docLinkHtml;\n",
              "          element.appendChild(docLink);\n",
              "        }\n",
              "      </script>\n",
              "    </div>\n",
              "  </div>\n",
              "  "
            ]
          },
          "metadata": {},
          "execution_count": 25
        }
      ],
      "source": [
        "data['TTR'] = data['text'].apply(TTR)\n",
        "data.head()"
      ]
    },
    {
      "cell_type": "markdown",
      "metadata": {
        "id": "--XtoVY0BOlk"
      },
      "source": [
        "5. Features - Mechanics - Typographical Errors"
      ]
    },
    {
      "cell_type": "code",
      "execution_count": null,
      "metadata": {
        "colab": {
          "base_uri": "https://localhost:8080/"
        },
        "id": "WzeBVGm0Bd39",
        "outputId": "9c8e75a6-eb61-47c8-9107-71a288bc43c2"
      },
      "outputs": [
        {
          "output_type": "stream",
          "name": "stdout",
          "text": [
            "Looking in indexes: https://pypi.org/simple, https://us-python.pkg.dev/colab-wheels/public/simple/\n",
            "Collecting pyspellchecker\n",
            "  Downloading pyspellchecker-0.7.1-py3-none-any.whl (2.5 MB)\n",
            "\u001b[K     |████████████████████████████████| 2.5 MB 34.2 MB/s \n",
            "\u001b[?25hInstalling collected packages: pyspellchecker\n",
            "Successfully installed pyspellchecker-0.7.1\n"
          ]
        }
      ],
      "source": [
        "!pip install pyspellchecker\n",
        "from spellchecker import SpellChecker\n",
        "\n",
        "wordlist = []\n",
        "for word in wordlist:\n",
        "   w = re.sub(r'[^\\w\\s]','',word) #remove everything except words and space\n",
        "   wordlist.append(w)\n",
        "\n",
        "def Typographical_Errors(text):\n",
        "  spell = SpellChecker()\n",
        "  misspelled_text = spell.unknown(wordlist)\n",
        "  Typographical_Errors = len(misspelled_text)\n",
        "  return Typographical_Errors"
      ]
    },
    {
      "cell_type": "code",
      "execution_count": null,
      "metadata": {
        "colab": {
          "base_uri": "https://localhost:8080/"
        },
        "id": "OjN232uO1m-D",
        "outputId": "c979f646-9975-4378-e5ee-7f72dacff7ab"
      },
      "outputs": [
        {
          "output_type": "stream",
          "name": "stdout",
          "text": [
            "[]\n"
          ]
        }
      ],
      "source": [
        "print(wordlist)"
      ]
    },
    {
      "cell_type": "code",
      "execution_count": null,
      "metadata": {
        "colab": {
          "base_uri": "https://localhost:8080/"
        },
        "id": "Lwg8LYFPyIdY",
        "outputId": "e9d2eb2c-4fa4-48ff-df92-e97361baf0ca"
      },
      "outputs": [
        {
          "output_type": "execute_result",
          "data": {
            "text/plain": [
              "{'hapenning'}"
            ]
          },
          "metadata": {},
          "execution_count": 28
        }
      ],
      "source": [
        "spell = SpellChecker()\n",
        "spell.known(['morning', 'hapenning'])\n",
        "spell.unknown(['morning', 'hapenning'])"
      ]
    },
    {
      "cell_type": "code",
      "execution_count": null,
      "metadata": {
        "colab": {
          "base_uri": "https://localhost:8080/"
        },
        "id": "kN_3MvpqyZQ-",
        "outputId": "1f498040-2c44-40dd-e57e-7aa6f271a3ed"
      },
      "outputs": [
        {
          "output_type": "execute_result",
          "data": {
            "text/plain": [
              "1"
            ]
          },
          "metadata": {},
          "execution_count": 29
        }
      ],
      "source": [
        "def typographical_errors(word_list):\n",
        "  spell = SpellChecker()\n",
        "  misspelled_text = spell.unknown(word_list)\n",
        "  num_misspelled = len(misspelled_text)\n",
        "  return num_misspelled\n",
        "\n",
        "typographical_errors(['morning', 'hapenning'])\n"
      ]
    },
    {
      "cell_type": "code",
      "execution_count": null,
      "metadata": {
        "colab": {
          "base_uri": "https://localhost:8080/"
        },
        "id": "Xbag46PyzA_j",
        "outputId": "b07ee08a-9100-4b68-8666-80a5d18456a8"
      },
      "outputs": [
        {
          "output_type": "stream",
          "name": "stdout",
          "text": [
            "IThe importance and popularity of travelling is still raising,  Everybody is interested in getting to know other countries and continents but the ways how to do it, are very differently. I agree with the statement that it is the best way to travel in a group led by a tour guide. \n",
            "\n",
            "If you travel in a group and you have a tour guide you get to know the most famous places and you get to know interesting things about the country you decided to visit. The tour guide would organise everything for you, so the only thing you would have to do is to go to the appointments with the group. \n",
            "Another aspect is that you would get to know a lot of interesting people. When you travel in a group it is very easy to get to know other people because usually you sit in the same bus or you sleep in the same hotel like the others do. That is why you are never borring when you travel in groups. \n",
            "If you decide to travel in a group and you visit a country which is dangerouses then the tour guide can inform you about this dangerouses and he can say you how to avoid risks. Sometimes there are special rules or other things which can bring you in trouble when you do not follow them.\n",
            "Furthermore a tour guide can help you with communication problems. When you are not able to speak the language people in the country you visit speak, then the tour guide can help you because he has to be able to speak it. So if you have to visit the doctor or you have to go to the police because something happended to you, then you can ask your tour guide and he would be able to help you.   \n",
            "These are the reasons why I prefer to tavel in a group with a tour guide.   \n",
            " \n",
            "\n"
          ]
        },
        {
          "output_type": "execute_result",
          "data": {
            "text/plain": [
              "[33, 26, 40, 36, 24, 22, 34, 38, 59, 46]"
            ]
          },
          "metadata": {},
          "execution_count": 30
        }
      ],
      "source": [
        "ten_test_sentences = data['text'][:10]\n",
        "print(ten_test_sentences[1])\n",
        "\n",
        "def text2word_list(text):\n",
        "  word_list = text.split(' ')\n",
        "  return word_list\n",
        "\n",
        "text2word_list(ten_test_sentences[0])\n",
        "ten_test_num_errors = [typographical_errors(text2word_list(t)) for t in ten_test_sentences]\n",
        "ten_test_num_errors"
      ]
    },
    {
      "cell_type": "code",
      "execution_count": null,
      "metadata": {
        "id": "39R0N-cW3ZEB"
      },
      "outputs": [],
      "source": [
        "data['typographical_errors'] = data['text'].apply(text2word_list).apply(typographical_errors)"
      ]
    },
    {
      "cell_type": "code",
      "execution_count": null,
      "metadata": {
        "id": "a17LhuLW6SGu"
      },
      "outputs": [],
      "source": [
        "def typographical_errors(word_list):\n",
        "  spell = SpellChecker()\n",
        "  misspelled_text = spell.unknown(word_list)\n",
        "  num_misspelled = len(misspelled_text)\n",
        "  return num_misspelled\n",
        "\n",
        "def text2word_list(text):\n",
        "  word_list = text.split(' ')\n",
        "  return word_list"
      ]
    },
    {
      "cell_type": "code",
      "execution_count": null,
      "metadata": {
        "colab": {
          "base_uri": "https://localhost:8080/"
        },
        "id": "OPeE4QOg3uLH",
        "outputId": "7d4c5e2d-e869-40d0-8554-79449132800c"
      },
      "outputs": [
        {
          "output_type": "execute_result",
          "data": {
            "text/plain": [
              "0      33\n",
              "1      26\n",
              "2      40\n",
              "3      36\n",
              "4      24\n",
              "       ..\n",
              "995    32\n",
              "996    39\n",
              "997    54\n",
              "998    54\n",
              "999    36\n",
              "Name: text, Length: 1000, dtype: int64"
            ]
          },
          "metadata": {},
          "execution_count": 33
        }
      ],
      "source": [
        "data['text'][:1000].apply(text2word_list).apply(typographical_errors)"
      ]
    },
    {
      "cell_type": "code",
      "execution_count": null,
      "metadata": {
        "id": "YTFSgy12NS0Z",
        "colab": {
          "base_uri": "https://localhost:8080/"
        },
        "outputId": "34f54cf6-7593-46a8-e522-24cf004f8fb9"
      },
      "outputs": [
        {
          "output_type": "stream",
          "name": "stdout",
          "text": [
            "Some people might think that traveling in a group led by a tour guide is a good way. But, a group tour normally has its strict schedule and does not offer the tourists in group any chance to meet many people in new place. \n",
            "So, I strongly disagree with the statement that the best way to travel is in a group led by a tour guide. \n",
            "\n",
            "First, a group tour has its own strict schedule and all the tour team members should follow it. And it means that I can not choose the place where I want go and the food which I want to eat. For example, when I went to Thailand for the first time, I chose a group tour because I was young and it was the first time to go abroad. I really wanted to go many attractive shops and spots in the street in Bangkok, but I couldn't go there because I was in a group tour and I had to follow the schedule which the tour company offered. And I had to wake up early in the morning and had to go back to hotel in early evening, even though I wanted to enjoy more sleep in the bed in the morning and wanted to go outside in the night. It was really bad experience. \n",
            "\n",
            "Second, a group tour does not offer many opportunities to meet other people for its tour team members. Becuase a group tour moves together by its tour bus, it is difficult to meet many people in new places. But if I travel alone, I can meet many people and feel their cultures. When I went to Tokyo by myself, I met really many people there. I could talk with them and some of them became my friends! Even though I could not go a lot of sightseeing spots as efficiently as a group tour, choosing a place where I go and going there by a subway were really exciting experience and Japanese people were kind to let me know the ways. \n",
            "\n",
            "All things considered, I definitely belive that a group tour led by a tour guide is not interesting or exciting at all. By going new place alone, we can learn more about the new place and feel much about the people there. \n",
            "\n"
          ]
        },
        {
          "output_type": "execute_result",
          "data": {
            "text/plain": [
              "0"
            ]
          },
          "metadata": {},
          "execution_count": 34
        }
      ],
      "source": [
        "t = data.iloc[0]['text']\n",
        "print(t)\n",
        "Typographical_Errors(t)"
      ]
    },
    {
      "cell_type": "markdown",
      "metadata": {
        "id": "hbb1sQW2ecQy"
      },
      "source": [
        "Continuous Scoring "
      ]
    },
    {
      "cell_type": "markdown",
      "metadata": {
        "id": "ZXWwxSbdekK8"
      },
      "source": [
        "*1. transforms catetorical labels into continuous values*"
      ]
    },
    {
      "cell_type": "code",
      "execution_count": null,
      "metadata": {
        "id": "1fvyx9O1eeVv"
      },
      "outputs": [],
      "source": [
        "def count_cat(x):\n",
        "  if x == \"high\":\n",
        "    x = 3\n",
        "  elif x == \"medium\":\n",
        "    x = 2\n",
        "  elif x == \"low\":\n",
        "    x = 1\n",
        "  return x"
      ]
    },
    {
      "cell_type": "markdown",
      "metadata": {
        "id": "QWmWzECMe3VX"
      },
      "source": [
        "*2. add continuous value series to dataset for labels*"
      ]
    },
    {
      "cell_type": "code",
      "execution_count": null,
      "metadata": {
        "colab": {
          "base_uri": "https://localhost:8080/",
          "height": 693
        },
        "id": "viC_La9rerN_",
        "outputId": "f5260594-14d1-4614-c2b0-e3916e040530"
      },
      "outputs": [
        {
          "output_type": "execute_result",
          "data": {
            "text/plain": [
              "    label                                               text  \\\n",
              "0    high  Some people might think that traveling in a gr...   \n",
              "1  medium  IThe importance and popularity of travelling i...   \n",
              "2    high  It is an important decision, how to plan your ...   \n",
              "3  medium  Some people believe that young people can enjo...   \n",
              "4  medium  Travelling is  usually considered as good recr...   \n",
              "\n",
              "   paragraphs_count  average_word_length   Have_PP  Have_PP_Error  punct%  \\\n",
              "0                 4             5.052083 -7.570443      -7.570443     2.1   \n",
              "1                 2             5.124611 -7.405496      -7.405496     1.4   \n",
              "2                 4             5.616667 -6.918695      -7.611842     2.2   \n",
              "3                 6             5.449568 -6.851714      -7.544861     2.7   \n",
              "4                 6             5.335244 -6.430794      -7.529406     1.2   \n",
              "\n",
              "        TTR  typographical_errors  label_num  \n",
              "0 -0.808979                    33          3  \n",
              "1 -0.851460                    26          2  \n",
              "2 -0.558228                    40          3  \n",
              "3 -0.678841                    36          2  \n",
              "4 -0.824634                    24          2  "
            ],
            "text/html": [
              "\n",
              "  <div id=\"df-53353552-3ddb-4949-ad7d-d43c8a22293a\">\n",
              "    <div class=\"colab-df-container\">\n",
              "      <div>\n",
              "<style scoped>\n",
              "    .dataframe tbody tr th:only-of-type {\n",
              "        vertical-align: middle;\n",
              "    }\n",
              "\n",
              "    .dataframe tbody tr th {\n",
              "        vertical-align: top;\n",
              "    }\n",
              "\n",
              "    .dataframe thead th {\n",
              "        text-align: right;\n",
              "    }\n",
              "</style>\n",
              "<table border=\"1\" class=\"dataframe\">\n",
              "  <thead>\n",
              "    <tr style=\"text-align: right;\">\n",
              "      <th></th>\n",
              "      <th>label</th>\n",
              "      <th>text</th>\n",
              "      <th>paragraphs_count</th>\n",
              "      <th>average_word_length</th>\n",
              "      <th>Have_PP</th>\n",
              "      <th>Have_PP_Error</th>\n",
              "      <th>punct%</th>\n",
              "      <th>TTR</th>\n",
              "      <th>typographical_errors</th>\n",
              "      <th>label_num</th>\n",
              "    </tr>\n",
              "  </thead>\n",
              "  <tbody>\n",
              "    <tr>\n",
              "      <th>0</th>\n",
              "      <td>high</td>\n",
              "      <td>Some people might think that traveling in a gr...</td>\n",
              "      <td>4</td>\n",
              "      <td>5.052083</td>\n",
              "      <td>-7.570443</td>\n",
              "      <td>-7.570443</td>\n",
              "      <td>2.1</td>\n",
              "      <td>-0.808979</td>\n",
              "      <td>33</td>\n",
              "      <td>3</td>\n",
              "    </tr>\n",
              "    <tr>\n",
              "      <th>1</th>\n",
              "      <td>medium</td>\n",
              "      <td>IThe importance and popularity of travelling i...</td>\n",
              "      <td>2</td>\n",
              "      <td>5.124611</td>\n",
              "      <td>-7.405496</td>\n",
              "      <td>-7.405496</td>\n",
              "      <td>1.4</td>\n",
              "      <td>-0.851460</td>\n",
              "      <td>26</td>\n",
              "      <td>2</td>\n",
              "    </tr>\n",
              "    <tr>\n",
              "      <th>2</th>\n",
              "      <td>high</td>\n",
              "      <td>It is an important decision, how to plan your ...</td>\n",
              "      <td>4</td>\n",
              "      <td>5.616667</td>\n",
              "      <td>-6.918695</td>\n",
              "      <td>-7.611842</td>\n",
              "      <td>2.2</td>\n",
              "      <td>-0.558228</td>\n",
              "      <td>40</td>\n",
              "      <td>3</td>\n",
              "    </tr>\n",
              "    <tr>\n",
              "      <th>3</th>\n",
              "      <td>medium</td>\n",
              "      <td>Some people believe that young people can enjo...</td>\n",
              "      <td>6</td>\n",
              "      <td>5.449568</td>\n",
              "      <td>-6.851714</td>\n",
              "      <td>-7.544861</td>\n",
              "      <td>2.7</td>\n",
              "      <td>-0.678841</td>\n",
              "      <td>36</td>\n",
              "      <td>2</td>\n",
              "    </tr>\n",
              "    <tr>\n",
              "      <th>4</th>\n",
              "      <td>medium</td>\n",
              "      <td>Travelling is  usually considered as good recr...</td>\n",
              "      <td>6</td>\n",
              "      <td>5.335244</td>\n",
              "      <td>-6.430794</td>\n",
              "      <td>-7.529406</td>\n",
              "      <td>1.2</td>\n",
              "      <td>-0.824634</td>\n",
              "      <td>24</td>\n",
              "      <td>2</td>\n",
              "    </tr>\n",
              "  </tbody>\n",
              "</table>\n",
              "</div>\n",
              "      <button class=\"colab-df-convert\" onclick=\"convertToInteractive('df-53353552-3ddb-4949-ad7d-d43c8a22293a')\"\n",
              "              title=\"Convert this dataframe to an interactive table.\"\n",
              "              style=\"display:none;\">\n",
              "        \n",
              "  <svg xmlns=\"http://www.w3.org/2000/svg\" height=\"24px\"viewBox=\"0 0 24 24\"\n",
              "       width=\"24px\">\n",
              "    <path d=\"M0 0h24v24H0V0z\" fill=\"none\"/>\n",
              "    <path d=\"M18.56 5.44l.94 2.06.94-2.06 2.06-.94-2.06-.94-.94-2.06-.94 2.06-2.06.94zm-11 1L8.5 8.5l.94-2.06 2.06-.94-2.06-.94L8.5 2.5l-.94 2.06-2.06.94zm10 10l.94 2.06.94-2.06 2.06-.94-2.06-.94-.94-2.06-.94 2.06-2.06.94z\"/><path d=\"M17.41 7.96l-1.37-1.37c-.4-.4-.92-.59-1.43-.59-.52 0-1.04.2-1.43.59L10.3 9.45l-7.72 7.72c-.78.78-.78 2.05 0 2.83L4 21.41c.39.39.9.59 1.41.59.51 0 1.02-.2 1.41-.59l7.78-7.78 2.81-2.81c.8-.78.8-2.07 0-2.86zM5.41 20L4 18.59l7.72-7.72 1.47 1.35L5.41 20z\"/>\n",
              "  </svg>\n",
              "      </button>\n",
              "      \n",
              "  <style>\n",
              "    .colab-df-container {\n",
              "      display:flex;\n",
              "      flex-wrap:wrap;\n",
              "      gap: 12px;\n",
              "    }\n",
              "\n",
              "    .colab-df-convert {\n",
              "      background-color: #E8F0FE;\n",
              "      border: none;\n",
              "      border-radius: 50%;\n",
              "      cursor: pointer;\n",
              "      display: none;\n",
              "      fill: #1967D2;\n",
              "      height: 32px;\n",
              "      padding: 0 0 0 0;\n",
              "      width: 32px;\n",
              "    }\n",
              "\n",
              "    .colab-df-convert:hover {\n",
              "      background-color: #E2EBFA;\n",
              "      box-shadow: 0px 1px 2px rgba(60, 64, 67, 0.3), 0px 1px 3px 1px rgba(60, 64, 67, 0.15);\n",
              "      fill: #174EA6;\n",
              "    }\n",
              "\n",
              "    [theme=dark] .colab-df-convert {\n",
              "      background-color: #3B4455;\n",
              "      fill: #D2E3FC;\n",
              "    }\n",
              "\n",
              "    [theme=dark] .colab-df-convert:hover {\n",
              "      background-color: #434B5C;\n",
              "      box-shadow: 0px 1px 3px 1px rgba(0, 0, 0, 0.15);\n",
              "      filter: drop-shadow(0px 1px 2px rgba(0, 0, 0, 0.3));\n",
              "      fill: #FFFFFF;\n",
              "    }\n",
              "  </style>\n",
              "\n",
              "      <script>\n",
              "        const buttonEl =\n",
              "          document.querySelector('#df-53353552-3ddb-4949-ad7d-d43c8a22293a button.colab-df-convert');\n",
              "        buttonEl.style.display =\n",
              "          google.colab.kernel.accessAllowed ? 'block' : 'none';\n",
              "\n",
              "        async function convertToInteractive(key) {\n",
              "          const element = document.querySelector('#df-53353552-3ddb-4949-ad7d-d43c8a22293a');\n",
              "          const dataTable =\n",
              "            await google.colab.kernel.invokeFunction('convertToInteractive',\n",
              "                                                     [key], {});\n",
              "          if (!dataTable) return;\n",
              "\n",
              "          const docLinkHtml = 'Like what you see? Visit the ' +\n",
              "            '<a target=\"_blank\" href=https://colab.research.google.com/notebooks/data_table.ipynb>data table notebook</a>'\n",
              "            + ' to learn more about interactive tables.';\n",
              "          element.innerHTML = '';\n",
              "          dataTable['output_type'] = 'display_data';\n",
              "          await google.colab.output.renderOutput(dataTable, element);\n",
              "          const docLink = document.createElement('div');\n",
              "          docLink.innerHTML = docLinkHtml;\n",
              "          element.appendChild(docLink);\n",
              "        }\n",
              "      </script>\n",
              "    </div>\n",
              "  </div>\n",
              "  "
            ]
          },
          "metadata": {},
          "execution_count": 36
        }
      ],
      "source": [
        "data['label_num'] = data['label'].apply(count_cat)\n",
        "data.head()"
      ]
    },
    {
      "cell_type": "code",
      "execution_count": null,
      "metadata": {
        "colab": {
          "base_uri": "https://localhost:8080/"
        },
        "id": "LW_HnjjPfHuf",
        "outputId": "72669e9d-0df8-4757-afdc-bf17296ffb04"
      },
      "outputs": [
        {
          "output_type": "execute_result",
          "data": {
            "text/plain": [
              "2    2700\n",
              "3    1746\n",
              "1     554\n",
              "Name: label_num, dtype: int64"
            ]
          },
          "metadata": {},
          "execution_count": 37
        }
      ],
      "source": [
        "data['label_num'].value_counts()"
      ]
    },
    {
      "cell_type": "markdown",
      "metadata": {
        "id": "9JTzXd-CDji_"
      },
      "source": [
        "New CSV with only features outcome "
      ]
    },
    {
      "cell_type": "code",
      "execution_count": null,
      "metadata": {
        "id": "Q7Tm7mmdDsJa"
      },
      "outputs": [],
      "source": [
        "data.to_csv('feature_evaluation.csv', columns = ['label_num','average_word_length','punct%','paragraphs_count','TTR','typographical_errors','Have_PP_Error','Have_PP'])"
      ]
    },
    {
      "cell_type": "markdown",
      "metadata": {
        "id": "cAeksUNQE_bH"
      },
      "source": [
        "Clean Data"
      ]
    },
    {
      "cell_type": "code",
      "execution_count": null,
      "metadata": {
        "colab": {
          "base_uri": "https://localhost:8080/"
        },
        "id": "RKcTq9gfFA2O",
        "outputId": "5852d6a7-8cd6-42f1-d10d-55460e408802"
      },
      "outputs": [
        {
          "output_type": "stream",
          "name": "stdout",
          "text": [
            "label                   0\n",
            "text                    0\n",
            "paragraphs_count        0\n",
            "average_word_length     0\n",
            "Have_PP                 0\n",
            "Have_PP_Error           0\n",
            "punct%                  0\n",
            "TTR                     0\n",
            "typographical_errors    0\n",
            "label_num               0\n",
            "dtype: int64\n",
            "(5000, 10)\n"
          ]
        }
      ],
      "source": [
        "print(data.isnull().sum())\n",
        "print(data.shape)"
      ]
    },
    {
      "cell_type": "code",
      "execution_count": null,
      "metadata": {
        "id": "jR-2zT5ZFDkg"
      },
      "outputs": [],
      "source": [
        "data.dropna(inplace=True)"
      ]
    },
    {
      "cell_type": "code",
      "execution_count": null,
      "metadata": {
        "colab": {
          "base_uri": "https://localhost:8080/",
          "height": 296
        },
        "id": "pc1GMJyLFGLR",
        "outputId": "c6008798-7919-4c08-b50e-6c6a169d61ed"
      },
      "outputs": [
        {
          "output_type": "display_data",
          "data": {
            "text/plain": [
              "<Figure size 720x288 with 1 Axes>"
            ],
            "image/png": "[encoded data removed]"
          },
          "metadata": {
            "needs_background": "light"
          }
        }
      ],
      "source": [
        "plt.figure(figsize=(10,4))\n",
        "\n",
        "data.label.value_counts().plot(kind='bar');"
      ]
    },
    {
      "cell_type": "code",
      "execution_count": null,
      "metadata": {
        "colab": {
          "base_uri": "https://localhost:8080/",
          "height": 297
        },
        "id": "Gnzi1mtKFOxb",
        "outputId": "6425ad3f-09f1-4bc4-fce3-c993666e2170"
      },
      "outputs": [
        {
          "output_type": "execute_result",
          "data": {
            "text/plain": [
              "      0      1      2      3      4      5      6      7      8      9      \\\n",
              "0  0.013672    0.0    0.0    0.0    0.0    0.0    0.0    0.0    0.0    0.0   \n",
              "1  0.018298    0.0    0.0    0.0    0.0    0.0    0.0    0.0    0.0    0.0   \n",
              "2  0.021528    0.0    0.0    0.0    0.0    0.0    0.0    0.0    0.0    0.0   \n",
              "3  0.018173    0.0    0.0    0.0    0.0    0.0    0.0    0.0    0.0    0.0   \n",
              "4  0.016291    0.0    0.0    0.0    0.0    0.0    0.0    0.0    0.0    0.0   \n",
              "\n",
              "   ...  31932  31933  31934  31935  31936  31937  31938  31939  31940  31941  \n",
              "0  ...    0.0    0.0    0.0    0.0    0.0    0.0    0.0    0.0    0.0    0.0  \n",
              "1  ...    0.0    0.0    0.0    0.0    0.0    0.0    0.0    0.0    0.0    0.0  \n",
              "2  ...    0.0    0.0    0.0    0.0    0.0    0.0    0.0    0.0    0.0    0.0  \n",
              "3  ...    0.0    0.0    0.0    0.0    0.0    0.0    0.0    0.0    0.0    0.0  \n",
              "4  ...    0.0    0.0    0.0    0.0    0.0    0.0    0.0    0.0    0.0    0.0  \n",
              "\n",
              "[5 rows x 31942 columns]"
            ],
            "text/html": [
              "\n",
              "  <div id=\"df-461b66da-9b38-4f74-9afa-59d9ca5328d3\">\n",
              "    <div class=\"colab-df-container\">\n",
              "      <div>\n",
              "<style scoped>\n",
              "    .dataframe tbody tr th:only-of-type {\n",
              "        vertical-align: middle;\n",
              "    }\n",
              "\n",
              "    .dataframe tbody tr th {\n",
              "        vertical-align: top;\n",
              "    }\n",
              "\n",
              "    .dataframe thead th {\n",
              "        text-align: right;\n",
              "    }\n",
              "</style>\n",
              "<table border=\"1\" class=\"dataframe\">\n",
              "  <thead>\n",
              "    <tr style=\"text-align: right;\">\n",
              "      <th></th>\n",
              "      <th>0</th>\n",
              "      <th>1</th>\n",
              "      <th>2</th>\n",
              "      <th>3</th>\n",
              "      <th>4</th>\n",
              "      <th>5</th>\n",
              "      <th>6</th>\n",
              "      <th>7</th>\n",
              "      <th>8</th>\n",
              "      <th>9</th>\n",
              "      <th>...</th>\n",
              "      <th>31932</th>\n",
              "      <th>31933</th>\n",
              "      <th>31934</th>\n",
              "      <th>31935</th>\n",
              "      <th>31936</th>\n",
              "      <th>31937</th>\n",
              "      <th>31938</th>\n",
              "      <th>31939</th>\n",
              "      <th>31940</th>\n",
              "      <th>31941</th>\n",
              "    </tr>\n",
              "  </thead>\n",
              "  <tbody>\n",
              "    <tr>\n",
              "      <th>0</th>\n",
              "      <td>0.013672</td>\n",
              "      <td>0.0</td>\n",
              "      <td>0.0</td>\n",
              "      <td>0.0</td>\n",
              "      <td>0.0</td>\n",
              "      <td>0.0</td>\n",
              "      <td>0.0</td>\n",
              "      <td>0.0</td>\n",
              "      <td>0.0</td>\n",
              "      <td>0.0</td>\n",
              "      <td>...</td>\n",
              "      <td>0.0</td>\n",
              "      <td>0.0</td>\n",
              "      <td>0.0</td>\n",
              "      <td>0.0</td>\n",
              "      <td>0.0</td>\n",
              "      <td>0.0</td>\n",
              "      <td>0.0</td>\n",
              "      <td>0.0</td>\n",
              "      <td>0.0</td>\n",
              "      <td>0.0</td>\n",
              "    </tr>\n",
              "    <tr>\n",
              "      <th>1</th>\n",
              "      <td>0.018298</td>\n",
              "      <td>0.0</td>\n",
              "      <td>0.0</td>\n",
              "      <td>0.0</td>\n",
              "      <td>0.0</td>\n",
              "      <td>0.0</td>\n",
              "      <td>0.0</td>\n",
              "      <td>0.0</td>\n",
              "      <td>0.0</td>\n",
              "      <td>0.0</td>\n",
              "      <td>...</td>\n",
              "      <td>0.0</td>\n",
              "      <td>0.0</td>\n",
              "      <td>0.0</td>\n",
              "      <td>0.0</td>\n",
              "      <td>0.0</td>\n",
              "      <td>0.0</td>\n",
              "      <td>0.0</td>\n",
              "      <td>0.0</td>\n",
              "      <td>0.0</td>\n",
              "      <td>0.0</td>\n",
              "    </tr>\n",
              "    <tr>\n",
              "      <th>2</th>\n",
              "      <td>0.021528</td>\n",
              "      <td>0.0</td>\n",
              "      <td>0.0</td>\n",
              "      <td>0.0</td>\n",
              "      <td>0.0</td>\n",
              "      <td>0.0</td>\n",
              "      <td>0.0</td>\n",
              "      <td>0.0</td>\n",
              "      <td>0.0</td>\n",
              "      <td>0.0</td>\n",
              "      <td>...</td>\n",
              "      <td>0.0</td>\n",
              "      <td>0.0</td>\n",
              "      <td>0.0</td>\n",
              "      <td>0.0</td>\n",
              "      <td>0.0</td>\n",
              "      <td>0.0</td>\n",
              "      <td>0.0</td>\n",
              "      <td>0.0</td>\n",
              "      <td>0.0</td>\n",
              "      <td>0.0</td>\n",
              "    </tr>\n",
              "    <tr>\n",
              "      <th>3</th>\n",
              "      <td>0.018173</td>\n",
              "      <td>0.0</td>\n",
              "      <td>0.0</td>\n",
              "      <td>0.0</td>\n",
              "      <td>0.0</td>\n",
              "      <td>0.0</td>\n",
              "      <td>0.0</td>\n",
              "      <td>0.0</td>\n",
              "      <td>0.0</td>\n",
              "      <td>0.0</td>\n",
              "      <td>...</td>\n",
              "      <td>0.0</td>\n",
              "      <td>0.0</td>\n",
              "      <td>0.0</td>\n",
              "      <td>0.0</td>\n",
              "      <td>0.0</td>\n",
              "      <td>0.0</td>\n",
              "      <td>0.0</td>\n",
              "      <td>0.0</td>\n",
              "      <td>0.0</td>\n",
              "      <td>0.0</td>\n",
              "    </tr>\n",
              "    <tr>\n",
              "      <th>4</th>\n",
              "      <td>0.016291</td>\n",
              "      <td>0.0</td>\n",
              "      <td>0.0</td>\n",
              "      <td>0.0</td>\n",
              "      <td>0.0</td>\n",
              "      <td>0.0</td>\n",
              "      <td>0.0</td>\n",
              "      <td>0.0</td>\n",
              "      <td>0.0</td>\n",
              "      <td>0.0</td>\n",
              "      <td>...</td>\n",
              "      <td>0.0</td>\n",
              "      <td>0.0</td>\n",
              "      <td>0.0</td>\n",
              "      <td>0.0</td>\n",
              "      <td>0.0</td>\n",
              "      <td>0.0</td>\n",
              "      <td>0.0</td>\n",
              "      <td>0.0</td>\n",
              "      <td>0.0</td>\n",
              "      <td>0.0</td>\n",
              "    </tr>\n",
              "  </tbody>\n",
              "</table>\n",
              "<p>5 rows × 31942 columns</p>\n",
              "</div>\n",
              "      <button class=\"colab-df-convert\" onclick=\"convertToInteractive('df-461b66da-9b38-4f74-9afa-59d9ca5328d3')\"\n",
              "              title=\"Convert this dataframe to an interactive table.\"\n",
              "              style=\"display:none;\">\n",
              "        \n",
              "  <svg xmlns=\"http://www.w3.org/2000/svg\" height=\"24px\"viewBox=\"0 0 24 24\"\n",
              "       width=\"24px\">\n",
              "    <path d=\"M0 0h24v24H0V0z\" fill=\"none\"/>\n",
              "    <path d=\"M18.56 5.44l.94 2.06.94-2.06 2.06-.94-2.06-.94-.94-2.06-.94 2.06-2.06.94zm-11 1L8.5 8.5l.94-2.06 2.06-.94-2.06-.94L8.5 2.5l-.94 2.06-2.06.94zm10 10l.94 2.06.94-2.06 2.06-.94-2.06-.94-.94-2.06-.94 2.06-2.06.94z\"/><path d=\"M17.41 7.96l-1.37-1.37c-.4-.4-.92-.59-1.43-.59-.52 0-1.04.2-1.43.59L10.3 9.45l-7.72 7.72c-.78.78-.78 2.05 0 2.83L4 21.41c.39.39.9.59 1.41.59.51 0 1.02-.2 1.41-.59l7.78-7.78 2.81-2.81c.8-.78.8-2.07 0-2.86zM5.41 20L4 18.59l7.72-7.72 1.47 1.35L5.41 20z\"/>\n",
              "  </svg>\n",
              "      </button>\n",
              "      \n",
              "  <style>\n",
              "    .colab-df-container {\n",
              "      display:flex;\n",
              "      flex-wrap:wrap;\n",
              "      gap: 12px;\n",
              "    }\n",
              "\n",
              "    .colab-df-convert {\n",
              "      background-color: #E8F0FE;\n",
              "      border: none;\n",
              "      border-radius: 50%;\n",
              "      cursor: pointer;\n",
              "      display: none;\n",
              "      fill: #1967D2;\n",
              "      height: 32px;\n",
              "      padding: 0 0 0 0;\n",
              "      width: 32px;\n",
              "    }\n",
              "\n",
              "    .colab-df-convert:hover {\n",
              "      background-color: #E2EBFA;\n",
              "      box-shadow: 0px 1px 2px rgba(60, 64, 67, 0.3), 0px 1px 3px 1px rgba(60, 64, 67, 0.15);\n",
              "      fill: #174EA6;\n",
              "    }\n",
              "\n",
              "    [theme=dark] .colab-df-convert {\n",
              "      background-color: #3B4455;\n",
              "      fill: #D2E3FC;\n",
              "    }\n",
              "\n",
              "    [theme=dark] .colab-df-convert:hover {\n",
              "      background-color: #434B5C;\n",
              "      box-shadow: 0px 1px 3px 1px rgba(0, 0, 0, 0.15);\n",
              "      filter: drop-shadow(0px 1px 2px rgba(0, 0, 0, 0.3));\n",
              "      fill: #FFFFFF;\n",
              "    }\n",
              "  </style>\n",
              "\n",
              "      <script>\n",
              "        const buttonEl =\n",
              "          document.querySelector('#df-461b66da-9b38-4f74-9afa-59d9ca5328d3 button.colab-df-convert');\n",
              "        buttonEl.style.display =\n",
              "          google.colab.kernel.accessAllowed ? 'block' : 'none';\n",
              "\n",
              "        async function convertToInteractive(key) {\n",
              "          const element = document.querySelector('#df-461b66da-9b38-4f74-9afa-59d9ca5328d3');\n",
              "          const dataTable =\n",
              "            await google.colab.kernel.invokeFunction('convertToInteractive',\n",
              "                                                     [key], {});\n",
              "          if (!dataTable) return;\n",
              "\n",
              "          const docLinkHtml = 'Like what you see? Visit the ' +\n",
              "            '<a target=\"_blank\" href=https://colab.research.google.com/notebooks/data_table.ipynb>data table notebook</a>'\n",
              "            + ' to learn more about interactive tables.';\n",
              "          element.innerHTML = '';\n",
              "          dataTable['output_type'] = 'display_data';\n",
              "          await google.colab.output.renderOutput(dataTable, element);\n",
              "          const docLink = document.createElement('div');\n",
              "          docLink.innerHTML = docLinkHtml;\n",
              "          element.appendChild(docLink);\n",
              "        }\n",
              "      </script>\n",
              "    </div>\n",
              "  </div>\n",
              "  "
            ]
          },
          "metadata": {},
          "execution_count": 42
        }
      ],
      "source": [
        "def clean_text(text):\n",
        "    text = \"\".join([word.lower() for word in text if word not in string.punctuation])\n",
        "    tokens = re.split('\\W+', text)\n",
        "    text = [ps.stem(word) for word in tokens if word not in stopwords]\n",
        "    return text\n",
        "\n",
        "tfidf_vect = TfidfVectorizer(analyzer=clean_text)\n",
        "\n",
        "X_tfidf = tfidf_vect.fit_transform(data['text'].astype('U').values)\n",
        "\n",
        "# columns = tfidf_vect.get_feature_names_out()\n",
        "X_features = pd.DataFrame(X_tfidf.toarray())\n",
        "X_features.head()"
      ]
    },
    {
      "cell_type": "markdown",
      "metadata": {
        "id": "1R0egLgfFijQ"
      },
      "source": [
        "Concatenate new features to the TF-IDF vectors"
      ]
    },
    {
      "cell_type": "code",
      "execution_count": null,
      "metadata": {
        "id": "rlKMMpujFjS3",
        "colab": {
          "base_uri": "https://localhost:8080/",
          "height": 297
        },
        "outputId": "b289143e-d4be-4305-f8a2-b0c892b801e0"
      },
      "outputs": [
        {
          "output_type": "execute_result",
          "data": {
            "text/plain": [
              "   average_word_length  punct%       TTR  paragraphs_count         0    1  \\\n",
              "0             5.052083     2.1 -0.808979                 4  0.013672  0.0   \n",
              "1             5.124611     1.4 -0.851460                 2  0.018298  0.0   \n",
              "2             5.616667     2.2 -0.558228                 4  0.021528  0.0   \n",
              "3             5.449568     2.7 -0.678841                 6  0.018173  0.0   \n",
              "4             5.335244     1.2 -0.824634                 6  0.016291  0.0   \n",
              "\n",
              "     2    3    4    5  ...  31932  31933  31934  31935  31936  31937  31938  \\\n",
              "0  0.0  0.0  0.0  0.0  ...    0.0    0.0    0.0    0.0    0.0    0.0    0.0   \n",
              "1  0.0  0.0  0.0  0.0  ...    0.0    0.0    0.0    0.0    0.0    0.0    0.0   \n",
              "2  0.0  0.0  0.0  0.0  ...    0.0    0.0    0.0    0.0    0.0    0.0    0.0   \n",
              "3  0.0  0.0  0.0  0.0  ...    0.0    0.0    0.0    0.0    0.0    0.0    0.0   \n",
              "4  0.0  0.0  0.0  0.0  ...    0.0    0.0    0.0    0.0    0.0    0.0    0.0   \n",
              "\n",
              "   31939  31940  31941  \n",
              "0    0.0    0.0    0.0  \n",
              "1    0.0    0.0    0.0  \n",
              "2    0.0    0.0    0.0  \n",
              "3    0.0    0.0    0.0  \n",
              "4    0.0    0.0    0.0  \n",
              "\n",
              "[5 rows x 31946 columns]"
            ],
            "text/html": [
              "\n",
              "  <div id=\"df-1b685cf4-09b1-45fc-93d8-ae3cf44a6b41\">\n",
              "    <div class=\"colab-df-container\">\n",
              "      <div>\n",
              "<style scoped>\n",
              "    .dataframe tbody tr th:only-of-type {\n",
              "        vertical-align: middle;\n",
              "    }\n",
              "\n",
              "    .dataframe tbody tr th {\n",
              "        vertical-align: top;\n",
              "    }\n",
              "\n",
              "    .dataframe thead th {\n",
              "        text-align: right;\n",
              "    }\n",
              "</style>\n",
              "<table border=\"1\" class=\"dataframe\">\n",
              "  <thead>\n",
              "    <tr style=\"text-align: right;\">\n",
              "      <th></th>\n",
              "      <th>average_word_length</th>\n",
              "      <th>punct%</th>\n",
              "      <th>TTR</th>\n",
              "      <th>paragraphs_count</th>\n",
              "      <th>0</th>\n",
              "      <th>1</th>\n",
              "      <th>2</th>\n",
              "      <th>3</th>\n",
              "      <th>4</th>\n",
              "      <th>5</th>\n",
              "      <th>...</th>\n",
              "      <th>31932</th>\n",
              "      <th>31933</th>\n",
              "      <th>31934</th>\n",
              "      <th>31935</th>\n",
              "      <th>31936</th>\n",
              "      <th>31937</th>\n",
              "      <th>31938</th>\n",
              "      <th>31939</th>\n",
              "      <th>31940</th>\n",
              "      <th>31941</th>\n",
              "    </tr>\n",
              "  </thead>\n",
              "  <tbody>\n",
              "    <tr>\n",
              "      <th>0</th>\n",
              "      <td>5.052083</td>\n",
              "      <td>2.1</td>\n",
              "      <td>-0.808979</td>\n",
              "      <td>4</td>\n",
              "      <td>0.013672</td>\n",
              "      <td>0.0</td>\n",
              "      <td>0.0</td>\n",
              "      <td>0.0</td>\n",
              "      <td>0.0</td>\n",
              "      <td>0.0</td>\n",
              "      <td>...</td>\n",
              "      <td>0.0</td>\n",
              "      <td>0.0</td>\n",
              "      <td>0.0</td>\n",
              "      <td>0.0</td>\n",
              "      <td>0.0</td>\n",
              "      <td>0.0</td>\n",
              "      <td>0.0</td>\n",
              "      <td>0.0</td>\n",
              "      <td>0.0</td>\n",
              "      <td>0.0</td>\n",
              "    </tr>\n",
              "    <tr>\n",
              "      <th>1</th>\n",
              "      <td>5.124611</td>\n",
              "      <td>1.4</td>\n",
              "      <td>-0.851460</td>\n",
              "      <td>2</td>\n",
              "      <td>0.018298</td>\n",
              "      <td>0.0</td>\n",
              "      <td>0.0</td>\n",
              "      <td>0.0</td>\n",
              "      <td>0.0</td>\n",
              "      <td>0.0</td>\n",
              "      <td>...</td>\n",
              "      <td>0.0</td>\n",
              "      <td>0.0</td>\n",
              "      <td>0.0</td>\n",
              "      <td>0.0</td>\n",
              "      <td>0.0</td>\n",
              "      <td>0.0</td>\n",
              "      <td>0.0</td>\n",
              "      <td>0.0</td>\n",
              "      <td>0.0</td>\n",
              "      <td>0.0</td>\n",
              "    </tr>\n",
              "    <tr>\n",
              "      <th>2</th>\n",
              "      <td>5.616667</td>\n",
              "      <td>2.2</td>\n",
              "      <td>-0.558228</td>\n",
              "      <td>4</td>\n",
              "      <td>0.021528</td>\n",
              "      <td>0.0</td>\n",
              "      <td>0.0</td>\n",
              "      <td>0.0</td>\n",
              "      <td>0.0</td>\n",
              "      <td>0.0</td>\n",
              "      <td>...</td>\n",
              "      <td>0.0</td>\n",
              "      <td>0.0</td>\n",
              "      <td>0.0</td>\n",
              "      <td>0.0</td>\n",
              "      <td>0.0</td>\n",
              "      <td>0.0</td>\n",
              "      <td>0.0</td>\n",
              "      <td>0.0</td>\n",
              "      <td>0.0</td>\n",
              "      <td>0.0</td>\n",
              "    </tr>\n",
              "    <tr>\n",
              "      <th>3</th>\n",
              "      <td>5.449568</td>\n",
              "      <td>2.7</td>\n",
              "      <td>-0.678841</td>\n",
              "      <td>6</td>\n",
              "      <td>0.018173</td>\n",
              "      <td>0.0</td>\n",
              "      <td>0.0</td>\n",
              "      <td>0.0</td>\n",
              "      <td>0.0</td>\n",
              "      <td>0.0</td>\n",
              "      <td>...</td>\n",
              "      <td>0.0</td>\n",
              "      <td>0.0</td>\n",
              "      <td>0.0</td>\n",
              "      <td>0.0</td>\n",
              "      <td>0.0</td>\n",
              "      <td>0.0</td>\n",
              "      <td>0.0</td>\n",
              "      <td>0.0</td>\n",
              "      <td>0.0</td>\n",
              "      <td>0.0</td>\n",
              "    </tr>\n",
              "    <tr>\n",
              "      <th>4</th>\n",
              "      <td>5.335244</td>\n",
              "      <td>1.2</td>\n",
              "      <td>-0.824634</td>\n",
              "      <td>6</td>\n",
              "      <td>0.016291</td>\n",
              "      <td>0.0</td>\n",
              "      <td>0.0</td>\n",
              "      <td>0.0</td>\n",
              "      <td>0.0</td>\n",
              "      <td>0.0</td>\n",
              "      <td>...</td>\n",
              "      <td>0.0</td>\n",
              "      <td>0.0</td>\n",
              "      <td>0.0</td>\n",
              "      <td>0.0</td>\n",
              "      <td>0.0</td>\n",
              "      <td>0.0</td>\n",
              "      <td>0.0</td>\n",
              "      <td>0.0</td>\n",
              "      <td>0.0</td>\n",
              "      <td>0.0</td>\n",
              "    </tr>\n",
              "  </tbody>\n",
              "</table>\n",
              "<p>5 rows × 31946 columns</p>\n",
              "</div>\n",
              "      <button class=\"colab-df-convert\" onclick=\"convertToInteractive('df-1b685cf4-09b1-45fc-93d8-ae3cf44a6b41')\"\n",
              "              title=\"Convert this dataframe to an interactive table.\"\n",
              "              style=\"display:none;\">\n",
              "        \n",
              "  <svg xmlns=\"http://www.w3.org/2000/svg\" height=\"24px\"viewBox=\"0 0 24 24\"\n",
              "       width=\"24px\">\n",
              "    <path d=\"M0 0h24v24H0V0z\" fill=\"none\"/>\n",
              "    <path d=\"M18.56 5.44l.94 2.06.94-2.06 2.06-.94-2.06-.94-.94-2.06-.94 2.06-2.06.94zm-11 1L8.5 8.5l.94-2.06 2.06-.94-2.06-.94L8.5 2.5l-.94 2.06-2.06.94zm10 10l.94 2.06.94-2.06 2.06-.94-2.06-.94-.94-2.06-.94 2.06-2.06.94z\"/><path d=\"M17.41 7.96l-1.37-1.37c-.4-.4-.92-.59-1.43-.59-.52 0-1.04.2-1.43.59L10.3 9.45l-7.72 7.72c-.78.78-.78 2.05 0 2.83L4 21.41c.39.39.9.59 1.41.59.51 0 1.02-.2 1.41-.59l7.78-7.78 2.81-2.81c.8-.78.8-2.07 0-2.86zM5.41 20L4 18.59l7.72-7.72 1.47 1.35L5.41 20z\"/>\n",
              "  </svg>\n",
              "      </button>\n",
              "      \n",
              "  <style>\n",
              "    .colab-df-container {\n",
              "      display:flex;\n",
              "      flex-wrap:wrap;\n",
              "      gap: 12px;\n",
              "    }\n",
              "\n",
              "    .colab-df-convert {\n",
              "      background-color: #E8F0FE;\n",
              "      border: none;\n",
              "      border-radius: 50%;\n",
              "      cursor: pointer;\n",
              "      display: none;\n",
              "      fill: #1967D2;\n",
              "      height: 32px;\n",
              "      padding: 0 0 0 0;\n",
              "      width: 32px;\n",
              "    }\n",
              "\n",
              "    .colab-df-convert:hover {\n",
              "      background-color: #E2EBFA;\n",
              "      box-shadow: 0px 1px 2px rgba(60, 64, 67, 0.3), 0px 1px 3px 1px rgba(60, 64, 67, 0.15);\n",
              "      fill: #174EA6;\n",
              "    }\n",
              "\n",
              "    [theme=dark] .colab-df-convert {\n",
              "      background-color: #3B4455;\n",
              "      fill: #D2E3FC;\n",
              "    }\n",
              "\n",
              "    [theme=dark] .colab-df-convert:hover {\n",
              "      background-color: #434B5C;\n",
              "      box-shadow: 0px 1px 3px 1px rgba(0, 0, 0, 0.15);\n",
              "      filter: drop-shadow(0px 1px 2px rgba(0, 0, 0, 0.3));\n",
              "      fill: #FFFFFF;\n",
              "    }\n",
              "  </style>\n",
              "\n",
              "      <script>\n",
              "        const buttonEl =\n",
              "          document.querySelector('#df-1b685cf4-09b1-45fc-93d8-ae3cf44a6b41 button.colab-df-convert');\n",
              "        buttonEl.style.display =\n",
              "          google.colab.kernel.accessAllowed ? 'block' : 'none';\n",
              "\n",
              "        async function convertToInteractive(key) {\n",
              "          const element = document.querySelector('#df-1b685cf4-09b1-45fc-93d8-ae3cf44a6b41');\n",
              "          const dataTable =\n",
              "            await google.colab.kernel.invokeFunction('convertToInteractive',\n",
              "                                                     [key], {});\n",
              "          if (!dataTable) return;\n",
              "\n",
              "          const docLinkHtml = 'Like what you see? Visit the ' +\n",
              "            '<a target=\"_blank\" href=https://colab.research.google.com/notebooks/data_table.ipynb>data table notebook</a>'\n",
              "            + ' to learn more about interactive tables.';\n",
              "          element.innerHTML = '';\n",
              "          dataTable['output_type'] = 'display_data';\n",
              "          await google.colab.output.renderOutput(dataTable, element);\n",
              "          const docLink = document.createElement('div');\n",
              "          docLink.innerHTML = docLinkHtml;\n",
              "          element.appendChild(docLink);\n",
              "        }\n",
              "      </script>\n",
              "    </div>\n",
              "  </div>\n",
              "  "
            ]
          },
          "metadata": {},
          "execution_count": 43
        }
      ],
      "source": [
        "X_features = pd.concat([data['average_word_length'], data['punct%'],data['TTR'],data['paragraphs_count'],pd.DataFrame(X_tfidf.toarray())], axis=1)\n",
        "X_features.head()"
      ]
    },
    {
      "cell_type": "markdown",
      "metadata": {
        "id": "EMTunjNxGIcX"
      },
      "source": [
        "Split the dataset into train/test"
      ]
    },
    {
      "cell_type": "code",
      "execution_count": null,
      "metadata": {
        "id": "AYL4ilXBGLOo"
      },
      "outputs": [],
      "source": [
        "from sklearn.metrics import precision_recall_fscore_support as score\n",
        "from sklearn.model_selection import train_test_split"
      ]
    },
    {
      "cell_type": "code",
      "execution_count": null,
      "metadata": {
        "id": "Z7HeAYbDGQUT"
      },
      "outputs": [],
      "source": [
        "X_train, X_test, y_train, y_test = train_test_split(X_features, data['label'], test_size=0.2, random_state=42)"
      ]
    },
    {
      "cell_type": "markdown",
      "metadata": {
        "id": "bwU5mK2wGXzL"
      },
      "source": [
        "Logistic Regressions Model"
      ]
    },
    {
      "cell_type": "code",
      "execution_count": null,
      "metadata": {
        "id": "PkL7ztgMGYfu"
      },
      "outputs": [],
      "source": [
        "from sklearn.linear_model import LogisticRegression"
      ]
    },
    {
      "cell_type": "code",
      "execution_count": null,
      "metadata": {
        "id": "zJISEoN1Ga1A"
      },
      "outputs": [],
      "source": [
        "import warnings\n",
        "warnings.filterwarnings(\"ignore\")\n",
        "\n",
        "lr = LogisticRegression()\n",
        "lr_model = lr.fit(X_train, y_train)"
      ]
    },
    {
      "cell_type": "code",
      "execution_count": null,
      "metadata": {
        "id": "x9IN8TjbIHfI"
      },
      "outputs": [],
      "source": [
        "y_pred = lr_model.predict(X_test)"
      ]
    },
    {
      "cell_type": "markdown",
      "metadata": {
        "id": "RfHFiyP7H0X_"
      },
      "source": [
        "*1.Evaluate the model*"
      ]
    },
    {
      "cell_type": "code",
      "execution_count": null,
      "metadata": {
        "id": "cAu-uPj8GgJ4",
        "colab": {
          "base_uri": "https://localhost:8080/"
        },
        "outputId": "ff5334c8-0d74-41b5-9bcb-a448da0c17fd"
      },
      "outputs": [
        {
          "output_type": "stream",
          "name": "stdout",
          "text": [
            "Accuracy: 0.662 / Precision: 0.692 / Recall: 0.662 / F1 Score: 0.629\n"
          ]
        }
      ],
      "source": [
        "precision, recall, fscore, support = score(y_test, y_pred, average='weighted')\n",
        "\n",
        "print('Accuracy: {} / Precision: {} / Recall: {} / F1 Score: {}'.format(round((y_pred==y_test).sum() / len(y_pred),3),\n",
        "                                                            round(precision, 3),\n",
        "                                                            round(recall, 3),\n",
        "                                                            round(fscore, 3)))"
      ]
    },
    {
      "cell_type": "markdown",
      "metadata": {
        "id": "eroJMHVgIZpQ"
      },
      "source": [
        "*2. Details Metrics*"
      ]
    },
    {
      "cell_type": "code",
      "execution_count": null,
      "metadata": {
        "id": "jpFacVAvIddE",
        "colab": {
          "base_uri": "https://localhost:8080/"
        },
        "outputId": "64fa44ee-516e-40c6-ef93-37f8581ca203"
      },
      "outputs": [
        {
          "output_type": "execute_result",
          "data": {
            "text/plain": [
              "array([[219,   1, 147],\n",
              "       [  1,   7, 103],\n",
              "       [ 86,   0, 436]])"
            ]
          },
          "metadata": {},
          "execution_count": 50
        }
      ],
      "source": [
        "from sklearn.metrics import confusion_matrix\n",
        "confusion_matrix(y_test, y_pred)"
      ]
    },
    {
      "cell_type": "code",
      "execution_count": null,
      "metadata": {
        "id": "x1vF0s9zJNiN",
        "colab": {
          "base_uri": "https://localhost:8080/"
        },
        "outputId": "25ff3f47-f8ec-4d99-e32c-bb981ffacf4a"
      },
      "outputs": [
        {
          "output_type": "stream",
          "name": "stdout",
          "text": [
            "              precision    recall  f1-score   support\n",
            "\n",
            "        High       0.72      0.60      0.65       367\n",
            "      Medium       0.88      0.06      0.12       111\n",
            "         Low       0.64      0.84      0.72       522\n",
            "\n",
            "    accuracy                           0.66      1000\n",
            "   macro avg       0.74      0.50      0.50      1000\n",
            "weighted avg       0.69      0.66      0.63      1000\n",
            "\n"
          ]
        }
      ],
      "source": [
        "from sklearn.metrics import classification_report\n",
        "target_names = ['High','Medium','Low']\n",
        "print(classification_report(y_test, y_pred, target_names=target_names))"
      ]
    },
    {
      "cell_type": "markdown",
      "metadata": {
        "id": "Nls4jv33JgjH"
      },
      "source": [
        "Random Forest Model"
      ]
    },
    {
      "cell_type": "code",
      "execution_count": null,
      "metadata": {
        "id": "jO9fe7kbJifU"
      },
      "outputs": [],
      "source": [
        "from sklearn.ensemble import RandomForestClassifier"
      ]
    },
    {
      "cell_type": "code",
      "execution_count": null,
      "metadata": {
        "id": "k6Wu4i83JmlI"
      },
      "outputs": [],
      "source": [
        "import warnings\n",
        "warnings.filterwarnings(\"ignore\")\n",
        "\n",
        "rf = RandomForestClassifier()\n",
        "rf_model = rf.fit(X_train, y_train)"
      ]
    },
    {
      "cell_type": "code",
      "execution_count": null,
      "metadata": {
        "id": "XCMA_IIYJ1o_"
      },
      "outputs": [],
      "source": [
        "y_pred = rf_model.predict(X_test)"
      ]
    },
    {
      "cell_type": "code",
      "execution_count": null,
      "metadata": {
        "id": "gojh5mdrJ3-7",
        "colab": {
          "base_uri": "https://localhost:8080/"
        },
        "outputId": "9d16d496-aaa7-441d-9c50-0c241a7769b7"
      },
      "outputs": [
        {
          "output_type": "stream",
          "name": "stdout",
          "text": [
            "Accuracy: 0.614 / Precision: 0.721 / Recall: 0.614 / F1 Score: 0.546\n"
          ]
        }
      ],
      "source": [
        "precision, recall, fscore, support = score(y_test, y_pred, average='weighted')\n",
        "\n",
        "print('Accuracy: {} / Precision: {} / Recall: {} / F1 Score: {}'.format(round((y_pred==y_test).sum() / len(y_pred),3),\n",
        "                                                            round(precision, 3),\n",
        "                                                            round(recall, 3),\n",
        "                                                            round(fscore, 3)))"
      ]
    },
    {
      "cell_type": "code",
      "execution_count": null,
      "metadata": {
        "id": "XJiJDeRqKHHZ",
        "colab": {
          "base_uri": "https://localhost:8080/"
        },
        "outputId": "672d2a8c-250b-412a-dd38-875fc200bbf7"
      },
      "outputs": [
        {
          "output_type": "execute_result",
          "data": {
            "text/plain": [
              "array([[109,   0, 258],\n",
              "       [  0,   4, 107],\n",
              "       [ 21,   0, 501]])"
            ]
          },
          "metadata": {},
          "execution_count": 56
        }
      ],
      "source": [
        "from sklearn.metrics import confusion_matrix\n",
        "confusion_matrix(y_test, y_pred)"
      ]
    },
    {
      "cell_type": "code",
      "execution_count": null,
      "metadata": {
        "id": "hOROhUUyKIJb",
        "colab": {
          "base_uri": "https://localhost:8080/"
        },
        "outputId": "24ff77d5-f866-4af0-deb3-ed8dd50e4659"
      },
      "outputs": [
        {
          "output_type": "stream",
          "name": "stdout",
          "text": [
            "              precision    recall  f1-score   support\n",
            "\n",
            "        High       0.84      0.30      0.44       367\n",
            "      Medium       1.00      0.04      0.07       111\n",
            "         Low       0.58      0.96      0.72       522\n",
            "\n",
            "    accuracy                           0.61      1000\n",
            "   macro avg       0.81      0.43      0.41      1000\n",
            "weighted avg       0.72      0.61      0.55      1000\n",
            "\n"
          ]
        }
      ],
      "source": [
        "from sklearn.metrics import classification_report\n",
        "target_names = ['High','Medium','Low']\n",
        "print(classification_report(y_test, y_pred, target_names=target_names))"
      ]
    },
    {
      "cell_type": "markdown",
      "metadata": {
        "id": "hg660ATkD1gb"
      },
      "source": [
        "SVM"
      ]
    },
    {
      "cell_type": "code",
      "execution_count": null,
      "metadata": {
        "id": "gud3E4pED4tT",
        "colab": {
          "base_uri": "https://localhost:8080/"
        },
        "outputId": "1b44118a-8745-464b-c1d9-5e611e363635"
      },
      "outputs": [
        {
          "output_type": "execute_result",
          "data": {
            "text/plain": [
              "SVC()"
            ]
          },
          "metadata": {},
          "execution_count": 58
        }
      ],
      "source": [
        "from sklearn import svm\n",
        "clf = svm.SVC()\n",
        "clf.fit(X_train, y_train)"
      ]
    },
    {
      "cell_type": "code",
      "execution_count": null,
      "metadata": {
        "id": "wKqUUpmQFypP"
      },
      "outputs": [],
      "source": [
        "y_pred = clf.predict(X_test)"
      ]
    },
    {
      "cell_type": "markdown",
      "metadata": {
        "id": "uEqTO9U6KoSm"
      },
      "source": [
        "Multinomial "
      ]
    },
    {
      "cell_type": "code",
      "execution_count": null,
      "metadata": {
        "id": "ESsh2XYaKOpm"
      },
      "outputs": [],
      "source": [
        "from sklearn.naive_bayes import MultinomialNB"
      ]
    },
    {
      "cell_type": "code",
      "execution_count": null,
      "metadata": {
        "id": "kxEv-oAzKPVM",
        "colab": {
          "base_uri": "https://localhost:8080/",
          "height": 341
        },
        "outputId": "9f49d5cc-ce27-4dc7-9763-cfa2a5334b54"
      },
      "outputs": [
        {
          "output_type": "error",
          "ename": "ValueError",
          "evalue": "ignored",
          "traceback": [
            "\u001b[0;31m---------------------------------------------------------------------------\u001b[0m",
            "\u001b[0;31mValueError\u001b[0m                                Traceback (most recent call last)",
            "\u001b[0;32m<ipython-input-61-5f9640fb118d>\u001b[0m in \u001b[0;36m<module>\u001b[0;34m\u001b[0m\n\u001b[1;32m      3\u001b[0m \u001b[0;34m\u001b[0m\u001b[0m\n\u001b[1;32m      4\u001b[0m \u001b[0mmnb\u001b[0m \u001b[0;34m=\u001b[0m \u001b[0mMultinomialNB\u001b[0m\u001b[0;34m(\u001b[0m\u001b[0;34m)\u001b[0m\u001b[0;34m\u001b[0m\u001b[0;34m\u001b[0m\u001b[0m\n\u001b[0;32m----> 5\u001b[0;31m \u001b[0mmnb_model\u001b[0m \u001b[0;34m=\u001b[0m \u001b[0mmnb\u001b[0m\u001b[0;34m.\u001b[0m\u001b[0mfit\u001b[0m\u001b[0;34m(\u001b[0m\u001b[0mX_train\u001b[0m\u001b[0;34m,\u001b[0m \u001b[0my_train\u001b[0m\u001b[0;34m)\u001b[0m\u001b[0;34m\u001b[0m\u001b[0;34m\u001b[0m\u001b[0m\n\u001b[0m",
            "\u001b[0;32m/usr/local/lib/python3.8/dist-packages/sklearn/naive_bayes.py\u001b[0m in \u001b[0;36mfit\u001b[0;34m(self, X, y, sample_weight)\u001b[0m\n\u001b[1;32m    688\u001b[0m         \u001b[0mn_classes\u001b[0m \u001b[0;34m=\u001b[0m \u001b[0mY\u001b[0m\u001b[0;34m.\u001b[0m\u001b[0mshape\u001b[0m\u001b[0;34m[\u001b[0m\u001b[0;36m1\u001b[0m\u001b[0;34m]\u001b[0m\u001b[0;34m\u001b[0m\u001b[0;34m\u001b[0m\u001b[0m\n\u001b[1;32m    689\u001b[0m         \u001b[0mself\u001b[0m\u001b[0;34m.\u001b[0m\u001b[0m_init_counters\u001b[0m\u001b[0;34m(\u001b[0m\u001b[0mn_classes\u001b[0m\u001b[0;34m,\u001b[0m \u001b[0mn_features\u001b[0m\u001b[0;34m)\u001b[0m\u001b[0;34m\u001b[0m\u001b[0;34m\u001b[0m\u001b[0m\n\u001b[0;32m--> 690\u001b[0;31m         \u001b[0mself\u001b[0m\u001b[0;34m.\u001b[0m\u001b[0m_count\u001b[0m\u001b[0;34m(\u001b[0m\u001b[0mX\u001b[0m\u001b[0;34m,\u001b[0m \u001b[0mY\u001b[0m\u001b[0;34m)\u001b[0m\u001b[0;34m\u001b[0m\u001b[0;34m\u001b[0m\u001b[0m\n\u001b[0m\u001b[1;32m    691\u001b[0m         \u001b[0malpha\u001b[0m \u001b[0;34m=\u001b[0m \u001b[0mself\u001b[0m\u001b[0;34m.\u001b[0m\u001b[0m_check_alpha\u001b[0m\u001b[0;34m(\u001b[0m\u001b[0;34m)\u001b[0m\u001b[0;34m\u001b[0m\u001b[0;34m\u001b[0m\u001b[0m\n\u001b[1;32m    692\u001b[0m         \u001b[0mself\u001b[0m\u001b[0;34m.\u001b[0m\u001b[0m_update_feature_log_prob\u001b[0m\u001b[0;34m(\u001b[0m\u001b[0malpha\u001b[0m\u001b[0;34m)\u001b[0m\u001b[0;34m\u001b[0m\u001b[0;34m\u001b[0m\u001b[0m\n",
            "\u001b[0;32m/usr/local/lib/python3.8/dist-packages/sklearn/naive_bayes.py\u001b[0m in \u001b[0;36m_count\u001b[0;34m(self, X, Y)\u001b[0m\n\u001b[1;32m    861\u001b[0m     \u001b[0;32mdef\u001b[0m \u001b[0m_count\u001b[0m\u001b[0;34m(\u001b[0m\u001b[0mself\u001b[0m\u001b[0;34m,\u001b[0m \u001b[0mX\u001b[0m\u001b[0;34m,\u001b[0m \u001b[0mY\u001b[0m\u001b[0;34m)\u001b[0m\u001b[0;34m:\u001b[0m\u001b[0;34m\u001b[0m\u001b[0;34m\u001b[0m\u001b[0m\n\u001b[1;32m    862\u001b[0m         \u001b[0;34m\"\"\"Count and smooth feature occurrences.\"\"\"\u001b[0m\u001b[0;34m\u001b[0m\u001b[0;34m\u001b[0m\u001b[0m\n\u001b[0;32m--> 863\u001b[0;31m         \u001b[0mcheck_non_negative\u001b[0m\u001b[0;34m(\u001b[0m\u001b[0mX\u001b[0m\u001b[0;34m,\u001b[0m \u001b[0;34m\"MultinomialNB (input X)\"\u001b[0m\u001b[0;34m)\u001b[0m\u001b[0;34m\u001b[0m\u001b[0;34m\u001b[0m\u001b[0m\n\u001b[0m\u001b[1;32m    864\u001b[0m         \u001b[0mself\u001b[0m\u001b[0;34m.\u001b[0m\u001b[0mfeature_count_\u001b[0m \u001b[0;34m+=\u001b[0m \u001b[0msafe_sparse_dot\u001b[0m\u001b[0;34m(\u001b[0m\u001b[0mY\u001b[0m\u001b[0;34m.\u001b[0m\u001b[0mT\u001b[0m\u001b[0;34m,\u001b[0m \u001b[0mX\u001b[0m\u001b[0;34m)\u001b[0m\u001b[0;34m\u001b[0m\u001b[0;34m\u001b[0m\u001b[0m\n\u001b[1;32m    865\u001b[0m         \u001b[0mself\u001b[0m\u001b[0;34m.\u001b[0m\u001b[0mclass_count_\u001b[0m \u001b[0;34m+=\u001b[0m \u001b[0mY\u001b[0m\u001b[0;34m.\u001b[0m\u001b[0msum\u001b[0m\u001b[0;34m(\u001b[0m\u001b[0maxis\u001b[0m\u001b[0;34m=\u001b[0m\u001b[0;36m0\u001b[0m\u001b[0;34m)\u001b[0m\u001b[0;34m\u001b[0m\u001b[0;34m\u001b[0m\u001b[0m\n",
            "\u001b[0;32m/usr/local/lib/python3.8/dist-packages/sklearn/utils/validation.py\u001b[0m in \u001b[0;36mcheck_non_negative\u001b[0;34m(X, whom)\u001b[0m\n\u001b[1;32m   1247\u001b[0m \u001b[0;34m\u001b[0m\u001b[0m\n\u001b[1;32m   1248\u001b[0m     \u001b[0;32mif\u001b[0m \u001b[0mX_min\u001b[0m \u001b[0;34m<\u001b[0m \u001b[0;36m0\u001b[0m\u001b[0;34m:\u001b[0m\u001b[0;34m\u001b[0m\u001b[0;34m\u001b[0m\u001b[0m\n\u001b[0;32m-> 1249\u001b[0;31m         \u001b[0;32mraise\u001b[0m \u001b[0mValueError\u001b[0m\u001b[0;34m(\u001b[0m\u001b[0;34m\"Negative values in data passed to %s\"\u001b[0m \u001b[0;34m%\u001b[0m \u001b[0mwhom\u001b[0m\u001b[0;34m)\u001b[0m\u001b[0;34m\u001b[0m\u001b[0;34m\u001b[0m\u001b[0m\n\u001b[0m\u001b[1;32m   1250\u001b[0m \u001b[0;34m\u001b[0m\u001b[0m\n\u001b[1;32m   1251\u001b[0m \u001b[0;34m\u001b[0m\u001b[0m\n",
            "\u001b[0;31mValueError\u001b[0m: Negative values in data passed to MultinomialNB (input X)"
          ]
        }
      ],
      "source": [
        "import warnings\n",
        "warnings.filterwarnings(\"ignore\")\n",
        "\n",
        "mnb = MultinomialNB()\n",
        "mnb_model = mnb.fit(X_train, y_train)"
      ]
    },
    {
      "cell_type": "code",
      "execution_count": null,
      "metadata": {
        "id": "tt3VgpQtKh1F"
      },
      "outputs": [],
      "source": [
        "y_pred = mnb_model.predict(X_test)"
      ]
    },
    {
      "cell_type": "code",
      "execution_count": null,
      "metadata": {
        "id": "vb8MhULEKky8"
      },
      "outputs": [],
      "source": [
        "precision, recall, fscore, support = score(y_test, y_pred, average='weighted')\n",
        "\n",
        "print('Accuracy: {} / Precision: {} / Recall: {} / F1 Score: {}'.format(round((y_pred==y_test).sum() / len(y_pred),3),\n",
        "                                                            round(precision, 3),\n",
        "                                                            round(recall, 3),\n",
        "                                                            round(fscore, 3)))"
      ]
    },
    {
      "cell_type": "code",
      "execution_count": null,
      "metadata": {
        "id": "cWKBOk2wKxP6"
      },
      "outputs": [],
      "source": [
        "from sklearn.metrics import confusion_matrix\n",
        "confusion_matrix(y_test, y_pred)"
      ]
    },
    {
      "cell_type": "code",
      "execution_count": null,
      "metadata": {
        "id": "NSuIcDiuKySJ"
      },
      "outputs": [],
      "source": [
        "from sklearn.metrics import classification_report\n",
        "target_names = ['High','Medium','Low']\n",
        "print(classification_report(y_test, y_pred, target_names=target_names))"
      ]
    },
    {
      "cell_type": "markdown",
      "metadata": {
        "id": "nBC0p8kLKrOl"
      },
      "source": [
        "Hyperparamter Tuning"
      ]
    },
    {
      "cell_type": "code",
      "execution_count": null,
      "metadata": {
        "id": "vS2eFh1hK4x8"
      },
      "outputs": [],
      "source": [
        "RandomForestClassifier().get_params()"
      ]
    },
    {
      "cell_type": "code",
      "execution_count": null,
      "metadata": {
        "id": "Jv8QuSm9K7HL"
      },
      "outputs": [],
      "source": [
        "rf = RandomForestClassifier(n_estimators=10, max_depth=10, n_jobs=-1, random_state = 42)\n",
        "rf_model = rf.fit(X_train, y_train)\n",
        "y_pred = rf_model.predict(X_test)\n",
        "\n",
        "target_names = ['High','Medium','Low']\n",
        "print(classification_report(y_test, y_pred, target_names=target_names))"
      ]
    },
    {
      "cell_type": "markdown",
      "metadata": {
        "id": "Hk903Nn6LPoQ"
      },
      "source": [
        "Grid Search Cross Validation"
      ]
    },
    {
      "cell_type": "code",
      "execution_count": null,
      "metadata": {
        "id": "lChlzZmNLPVR"
      },
      "outputs": [],
      "source": [
        "def train_RF(n_est, depth):\n",
        "    rf = RandomForestClassifier(n_estimators=n_est, max_depth=depth, n_jobs=-1, random_state = 42)\n",
        "    rf_model = rf.fit(X_train, y_train)\n",
        "    y_pred = rf_model.predict(X_test)\n",
        "    precision, recall, fscore, support = score(y_test, y_pred, average='weighted')\n",
        "    print('Est: {} / Depth: {} ---- Precision: {} / Recall: {} / Accuracy: {}'.format(\n",
        "        n_est, depth, round(precision, 3), round(recall, 3),\n",
        "        round((y_pred==y_test).sum() / len(y_pred), 3)))"
      ]
    },
    {
      "cell_type": "code",
      "execution_count": null,
      "metadata": {
        "id": "pPHFCXGlLTHH"
      },
      "outputs": [],
      "source": [
        "for n_est in [10, 50, 100]:\n",
        "    for depth in [10, 20, None]:\n",
        "        train_RF(n_est, depth)"
      ]
    }
  ],
  "metadata": {
    "colab": {
      "provenance": []
    },
    "kernelspec": {
      "display_name": "Python 3",
      "name": "python3"
    },
    "language_info": {
      "name": "python"
    }
  },
  "nbformat": 4,
  "nbformat_minor": 0
}